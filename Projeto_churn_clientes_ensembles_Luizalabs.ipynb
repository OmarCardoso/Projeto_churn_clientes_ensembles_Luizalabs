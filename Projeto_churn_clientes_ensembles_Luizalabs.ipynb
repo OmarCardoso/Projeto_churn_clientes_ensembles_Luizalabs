{
  "nbformat": 4,
  "nbformat_minor": 0,
  "metadata": {
    "colab": {
      "provenance": [],
      "collapsed_sections": [],
      "toc_visible": true,
      "include_colab_link": true
    },
    "kernelspec": {
      "name": "python3",
      "display_name": "Python 3"
    },
    "language_info": {
      "name": "python"
    }
  },
  "cells": [
    {
      "cell_type": "markdown",
      "metadata": {
        "id": "view-in-github",
        "colab_type": "text"
      },
      "source": [
        "<a href=\"https://colab.research.google.com/github/OmarCardoso/Projeto_churn_clientes_ensembles_Luizalabs/blob/main/Projeto_churn_clientes_ensembles_Luizalabs.ipynb\" target=\"_parent\"><img src=\"https://colab.research.google.com/assets/colab-badge.svg\" alt=\"Open In Colab\"/></a>"
      ]
    },
    {
      "cell_type": "markdown",
      "metadata": {
        "id": "hdIUkoLIvKrr"
      },
      "source": [
        "# Desafio de Ensembles: Previsão de _Churn_ de Clientes\n",
        "\n",
        "___\n",
        "\n",
        "\n",
        "### Author: Omar Cardoso\n",
        "\n",
        "> #### Steakholders: Tera Data Science / Luizalabs (Magazin Luiza)\n",
        "\n",
        "#### Setembro de 2022\n",
        "\n",
        "___\n"
      ]
    },
    {
      "cell_type": "markdown",
      "source": [
        "# FASE 1 - SOBRE O PROJETO"
      ],
      "metadata": {
        "id": "rqXkRIEyW3ru"
      }
    },
    {
      "cell_type": "markdown",
      "metadata": {
        "id": "bLU_dncDhl_m"
      },
      "source": [
        "## 1.1 -  Contexto do Desafio\n"
      ]
    },
    {
      "cell_type": "markdown",
      "metadata": {
        "id": "ywZJMyZkMv3Z"
      },
      "source": [
        "\n",
        "## *Churn* de Clientes\n",
        "\n",
        "O desafio de prever se um cliente irá sair da Base de Clientes Ativos (também conhecido como *churn*) não é um problema exclusivo do varejo, sendo uma área de estudos constante da maioria das indústrias e empresas de serviços que dependem da retenção. \n",
        "\n",
        "Esse é um exemplo do tipo de problema que um cientista do *Chapter* de Ciência de Dados do Luizalabs entra de cabeça e cujas soluções servem para alavancar várias frentes de trabalho. A solução em si já traz muito valor, se tiver alto índice de acertos pode ser usada para elencar automaticamente clientes com alto risco de *churn* para uma promoção agressiva com o objetivo retê-lo na base. \n",
        "\n",
        "Também há muito valor nos *insights* e na validação de hipóteses que acontece durante o processo de análise do problema e das soluções. Pode-se verificar através de experimentação que, por exemplo, um cliente que compra exclusivamente em datas especiais ou eventos promocionais tem uma chance menor de ser um *churn* do que um que compra grandes volumes do mesmo produto. "
      ]
    },
    {
      "cell_type": "markdown",
      "metadata": {
        "id": "pXN04kWGMv5n"
      },
      "source": [
        "## 1.2 - Objetivos do Desafio\n",
        "\n",
        "Nesse desafio, construído em uma parceria da **Tera** e o **Luizalabs**, o **objetivo principal** será construir algumas soluções baseadas em *machine learning* para prever se um dado cliente do *e-commerce* do **Magalu** continuará comprando na plataforma em 2020 usando algumas características próprias do cliente e seu histórico de compras no ano anterior. No final, algumas dessas soluções devem ser combinadas em um *ensemble* para criar uma solução única com o objetivo de alavancar ainda mais os resultados.\n",
        "\n",
        "Para que o **objetivo principal** seja cumprido, será necessário construir uma forma de visualização das soluções criadas e a comparação com o **modelo _baseline_** e com o **modelo de _ensemble_** criados no processo. O formato sugerido é um **tabela de resultados** contendo as métricas de sucesso de cada modelo criado.\n",
        "\n",
        "O **objetivo secundário** é o levantamento de hipóteses e *insights* que surgirem durante as experimentações. É interessante fazer isso desde o início como parte da análise exploratória, documentando qualquer indício de informação nova sobre o problema. Também é uma boa prática avaliar os modelos treinados, seja através da exploração de seus parâmetros (por exemplo, os pesos de um modelo linear) ou usando técnicas avançadas como o [SHAP](https://www.kaggle.com/dansbecker/shap-values), buscando relacionar como as _features_ influenciam as respostas do modelo.\n",
        "\n",
        "A forma mais simples de cumprir o **objetivo secundário** é a documentação das etapas de análise e exploração de forma resumida em um relatório que compila as principais hipóteses e _insights_. Esse relatório pode ser um documento de texto na forma de um **diário de bordo** ou mesmo uma **seção do próprio notebook** em que a solução foi desenvolvida."
      ]
    },
    {
      "cell_type": "markdown",
      "metadata": {
        "id": "uUNdtKM4Mv72"
      },
      "source": [
        "## 1.3 Pontuação no Desafio\n",
        "\n",
        "O desafio também possui um **_dataset_ de pontuação**, contendo dados de clientes que não estão nem nas bases de treino nem nas de teste. Para esses clientes não foram disponibilizadas as respostas (_targets_), sendo portanto impossível verificar durante o desenvolvimento da solução se o modelo está acertando ou não. \n",
        "\n",
        "O objetivo desse _dataset_ é permitir, de forma justa, que os alunos possam comparar suas melhores soluções com as dos outros. Através desse [_link_](https://forms.gle/9Vb4VDVejXLz6wi67) é possível fazer o envio do **arquivo de respostas** do desafio. No fim do desafio, será mostrado o _ranking_ dos envios dos alunos. \n",
        "\n",
        "_Let the Games Begin!_ ="
      ]
    },
    {
      "cell_type": "markdown",
      "metadata": {
        "id": "qUkvFE-_q98d"
      },
      "source": [
        "## 1.4 Base de Dados\n",
        "\n",
        "Todos os dados disponibilizados para esse desafio estão em arquivos no formato **_csv_**, podendo ser baixados para serem trabalhados localmente ou em um notebook do **_Google Colab_** como este aqui. \n",
        "\n",
        "Os dados sensíveis ou privados de clientes e produtos estão todos anonimizados, respeitando a privacidade dos mesmos e evitando o vazamento de informações estratégicas da empresa. \n",
        "\n",
        "Esses dados anonimizados incluem informações de **IDs de entidades** (clientes, vendas e produtos), os **estados** de origem do cliente e de destino do produto e a **estrutura mercadológica** dos produtos (nomes de categorias e subcategorias às quais pertencem), assim como sua **descrição** (nome do produto incluso).\n",
        "\n"
      ]
    },
    {
      "cell_type": "markdown",
      "source": [
        "# FASE 2 - PREPARAÇÃO DAS FONTES"
      ],
      "metadata": {
        "id": "pz2zSsjPZq66"
      }
    },
    {
      "cell_type": "markdown",
      "metadata": {
        "id": "E3k03tlYMnrh"
      },
      "source": [
        "### 2.1 Definições de ambiente\n",
        "\n",
        "Algumas definições de ambiente serão definidas nessa seção para facilitar o acesso aos dados."
      ]
    },
    {
      "cell_type": "markdown",
      "metadata": {
        "id": "fkel3fJBV6wD"
      },
      "source": [
        "#### 2.1.1.Imports"
      ]
    },
    {
      "cell_type": "code",
      "metadata": {
        "id": "oTyQ4dZyO1Iz"
      },
      "source": [
        "import gdown\n",
        "import numpy as np\n",
        "import pandas as pd"
      ],
      "execution_count": 1,
      "outputs": []
    },
    {
      "cell_type": "markdown",
      "metadata": {
        "id": "aATp5BaXNbdk"
      },
      "source": [
        "#### 2.1.2 Estrutura de pastas\n",
        "\n",
        "Criação da estrutura de pastas antes do _download_."
      ]
    },
    {
      "cell_type": "code",
      "metadata": {
        "colab": {
          "base_uri": "https://localhost:8080/"
        },
        "id": "ml0PRnbGMnz3",
        "outputId": "1064a18f-a043-4139-e888-db3e309746f1"
      },
      "source": [
        "%%bash\n",
        "if [  -d \"data\" ]\n",
        "then \n",
        "    echo \"folder 'data' already created, do nothing\" \n",
        "else\n",
        "    mkdir data\n",
        "    echo \"created 'data' folder\"\n",
        "fi"
      ],
      "execution_count": 3,
      "outputs": [
        {
          "output_type": "stream",
          "name": "stdout",
          "text": [
            "folder 'data' already created, do nothing\n"
          ]
        }
      ]
    },
    {
      "cell_type": "markdown",
      "metadata": {
        "id": "ffOfM-CBQB2C"
      },
      "source": [
        "#### 2.1.3 URLs e Nomes de Arquivos"
      ]
    },
    {
      "cell_type": "code",
      "metadata": {
        "id": "glm5P7OjQB-o"
      },
      "source": [
        "FILE_INFO = {\n",
        "    'client_tr': {\n",
        "        'url':      'https://drive.google.com/uc?id=1GaDgzqFJz-ATMU5ePDD7BPjpSjzZ7kQm',\n",
        "        'output':   'data/client.train.csv'\n",
        "    },\n",
        "    'client_te': {\n",
        "        'url':      'https://drive.google.com/uc?id=1Pg6AIpM-krtf1aNS3IKUSkoHhun_OxKw',\n",
        "        'output':   'data/client.test.csv'\n",
        "    },\n",
        "    'client_ch': {\n",
        "        'url':      'https://drive.google.com/uc?id=1JBo7SlIuzmkQgRg9VytkNgXLhZyKmPJV',\n",
        "        'output':   'data/client.challenge.csv'\n",
        "    },\n",
        "    'orders': {\n",
        "        'url':      'https://drive.google.com/uc?id=1sk7p66kMAu4ZfAUmYVH0YF-cx2kHd4UZ',\n",
        "        'output':   'data/orders.csv'\n",
        "    },\n",
        "    'product': {\n",
        "        'url':      'https://drive.google.com/uc?id=1wU65H2mwrdd8BhVM8hITCB9sfRVNHFwQ',\n",
        "        'output':   'data/product.csv'\n",
        "    }\n",
        "}"
      ],
      "execution_count": 4,
      "outputs": []
    },
    {
      "cell_type": "markdown",
      "metadata": {
        "id": "hIBeRQuUrPze"
      },
      "source": [
        "#### 2.2 Descrição das Tabelas e Colunas\n",
        "\n",
        "Nessa seção serão descritas as tabelas e suas colunas do desafio. Os links para os arquivos e a descrição de cada um está nas seções a seguir. Algumas definições de código e extrações já serão feitas nesse momento, para facilitar o uso dos dados no restante do _notebook_ e para facilitar a explicação de cada elemento."
      ]
    },
    {
      "cell_type": "markdown",
      "metadata": {
        "id": "VTY2UIKqswVc"
      },
      "source": [
        "##### 2.2.1 Dados de Clientes\n",
        "\n",
        "Os dados de clientes estão contidos em **3 arquivos** _csv_ já separados em **treino**, **teste** e **desafio**. Isso foi feito previamente para que os três _datasets_ tivessem distribuições justas das **_features_ de interesse**, representando fielmente o domínio do problema."
      ]
    },
    {
      "cell_type": "markdown",
      "metadata": {
        "id": "kB6cROyqVEWw"
      },
      "source": [
        "##### 2.2.1.1 Colunas da Tabela de Clientes\n",
        "\n",
        "As colunas para os três arquivos são:\n",
        "\n",
        "- `client_id`: ID global único do cliente\n",
        "- `birthdate`: data de nascimento do cliente\n",
        "- `state`: estado onde o cliente mora\n",
        "- `gender`: gênero declarado pelo cliente\n",
        "- `is_churn`: variável dependente (_target_) que diz se o cliente será _churn_ ou não"
      ]
    },
    {
      "cell_type": "markdown",
      "metadata": {
        "id": "89LBPqeIK40r"
      },
      "source": [
        "#### Dados de Treino: _clients.train.csv_\n",
        "\n",
        "Os **dados de treino** estão [neste arquivo](https://drive.google.com/uc?id=1Pg6AIpM-krtf1aNS3IKUSkoHhun_OxKw) do _Google Drive_."
      ]
    },
    {
      "cell_type": "code",
      "metadata": {
        "id": "vObtcnw4Wb7U"
      },
      "source": [
        "key = 'client_tr'"
      ],
      "execution_count": 5,
      "outputs": []
    },
    {
      "cell_type": "code",
      "metadata": {
        "colab": {
          "base_uri": "https://localhost:8080/",
          "height": 109
        },
        "id": "-TOYapcxO-IW",
        "outputId": "455eeb47-4d18-41cd-f62d-7b522774a16e"
      },
      "source": [
        " gdown.download(**FILE_INFO[key], quiet=0)"
      ],
      "execution_count": 6,
      "outputs": [
        {
          "output_type": "stream",
          "name": "stderr",
          "text": [
            "Downloading...\n",
            "From: https://drive.google.com/uc?id=1GaDgzqFJz-ATMU5ePDD7BPjpSjzZ7kQm\n",
            "To: /content/data/client.train.csv\n",
            "100%|██████████| 788k/788k [00:00<00:00, 94.1MB/s]\n"
          ]
        },
        {
          "output_type": "execute_result",
          "data": {
            "text/plain": [
              "'data/client.train.csv'"
            ],
            "application/vnd.google.colaboratory.intrinsic+json": {
              "type": "string"
            }
          },
          "metadata": {},
          "execution_count": 6
        }
      ]
    },
    {
      "cell_type": "code",
      "metadata": {
        "colab": {
          "base_uri": "https://localhost:8080/",
          "height": 455
        },
        "id": "RzwR92azLgaw",
        "outputId": "2fbd8844-a0a9-4ee0-f55d-43354bd2801d"
      },
      "source": [
        "clients_tr = pd.read_csv(\n",
        "    FILE_INFO[key]['output'],\n",
        "    index_col=0, \n",
        "    sep=',', \n",
        "    encoding='utf-8',\n",
        "    parse_dates=['birthdate']\n",
        ")\n",
        "clients_tr"
      ],
      "execution_count": 7,
      "outputs": [
        {
          "output_type": "execute_result",
          "data": {
            "text/plain": [
              "           birthdate state gender  is_churn\n",
              "client_id                                  \n",
              "cx05072   1972-03-22  st25    cg2     False\n",
              "cx03836   1966-08-14  st15    cg1     False\n",
              "cx08472   1954-08-07  st15    cg1     False\n",
              "cx12946   1955-11-16  st15    cg1     False\n",
              "cx19045   1958-10-25  st15    cg2     False\n",
              "...              ...   ...    ...       ...\n",
              "cx05312   1981-08-29  st18    cg1     False\n",
              "cx02434   1997-03-15  st04    cg2     False\n",
              "cx16024   1950-10-09  st11    cg1     False\n",
              "cx11285   1976-07-03  st11    cg2     False\n",
              "cx00861   1980-06-01  st21    cg2     False\n",
              "\n",
              "[23292 rows x 4 columns]"
            ],
            "text/html": [
              "\n",
              "  <div id=\"df-8a569e05-e3ef-4608-beac-7a0f802f0f2a\">\n",
              "    <div class=\"colab-df-container\">\n",
              "      <div>\n",
              "<style scoped>\n",
              "    .dataframe tbody tr th:only-of-type {\n",
              "        vertical-align: middle;\n",
              "    }\n",
              "\n",
              "    .dataframe tbody tr th {\n",
              "        vertical-align: top;\n",
              "    }\n",
              "\n",
              "    .dataframe thead th {\n",
              "        text-align: right;\n",
              "    }\n",
              "</style>\n",
              "<table border=\"1\" class=\"dataframe\">\n",
              "  <thead>\n",
              "    <tr style=\"text-align: right;\">\n",
              "      <th></th>\n",
              "      <th>birthdate</th>\n",
              "      <th>state</th>\n",
              "      <th>gender</th>\n",
              "      <th>is_churn</th>\n",
              "    </tr>\n",
              "    <tr>\n",
              "      <th>client_id</th>\n",
              "      <th></th>\n",
              "      <th></th>\n",
              "      <th></th>\n",
              "      <th></th>\n",
              "    </tr>\n",
              "  </thead>\n",
              "  <tbody>\n",
              "    <tr>\n",
              "      <th>cx05072</th>\n",
              "      <td>1972-03-22</td>\n",
              "      <td>st25</td>\n",
              "      <td>cg2</td>\n",
              "      <td>False</td>\n",
              "    </tr>\n",
              "    <tr>\n",
              "      <th>cx03836</th>\n",
              "      <td>1966-08-14</td>\n",
              "      <td>st15</td>\n",
              "      <td>cg1</td>\n",
              "      <td>False</td>\n",
              "    </tr>\n",
              "    <tr>\n",
              "      <th>cx08472</th>\n",
              "      <td>1954-08-07</td>\n",
              "      <td>st15</td>\n",
              "      <td>cg1</td>\n",
              "      <td>False</td>\n",
              "    </tr>\n",
              "    <tr>\n",
              "      <th>cx12946</th>\n",
              "      <td>1955-11-16</td>\n",
              "      <td>st15</td>\n",
              "      <td>cg1</td>\n",
              "      <td>False</td>\n",
              "    </tr>\n",
              "    <tr>\n",
              "      <th>cx19045</th>\n",
              "      <td>1958-10-25</td>\n",
              "      <td>st15</td>\n",
              "      <td>cg2</td>\n",
              "      <td>False</td>\n",
              "    </tr>\n",
              "    <tr>\n",
              "      <th>...</th>\n",
              "      <td>...</td>\n",
              "      <td>...</td>\n",
              "      <td>...</td>\n",
              "      <td>...</td>\n",
              "    </tr>\n",
              "    <tr>\n",
              "      <th>cx05312</th>\n",
              "      <td>1981-08-29</td>\n",
              "      <td>st18</td>\n",
              "      <td>cg1</td>\n",
              "      <td>False</td>\n",
              "    </tr>\n",
              "    <tr>\n",
              "      <th>cx02434</th>\n",
              "      <td>1997-03-15</td>\n",
              "      <td>st04</td>\n",
              "      <td>cg2</td>\n",
              "      <td>False</td>\n",
              "    </tr>\n",
              "    <tr>\n",
              "      <th>cx16024</th>\n",
              "      <td>1950-10-09</td>\n",
              "      <td>st11</td>\n",
              "      <td>cg1</td>\n",
              "      <td>False</td>\n",
              "    </tr>\n",
              "    <tr>\n",
              "      <th>cx11285</th>\n",
              "      <td>1976-07-03</td>\n",
              "      <td>st11</td>\n",
              "      <td>cg2</td>\n",
              "      <td>False</td>\n",
              "    </tr>\n",
              "    <tr>\n",
              "      <th>cx00861</th>\n",
              "      <td>1980-06-01</td>\n",
              "      <td>st21</td>\n",
              "      <td>cg2</td>\n",
              "      <td>False</td>\n",
              "    </tr>\n",
              "  </tbody>\n",
              "</table>\n",
              "<p>23292 rows × 4 columns</p>\n",
              "</div>\n",
              "      <button class=\"colab-df-convert\" onclick=\"convertToInteractive('df-8a569e05-e3ef-4608-beac-7a0f802f0f2a')\"\n",
              "              title=\"Convert this dataframe to an interactive table.\"\n",
              "              style=\"display:none;\">\n",
              "        \n",
              "  <svg xmlns=\"http://www.w3.org/2000/svg\" height=\"24px\"viewBox=\"0 0 24 24\"\n",
              "       width=\"24px\">\n",
              "    <path d=\"M0 0h24v24H0V0z\" fill=\"none\"/>\n",
              "    <path d=\"M18.56 5.44l.94 2.06.94-2.06 2.06-.94-2.06-.94-.94-2.06-.94 2.06-2.06.94zm-11 1L8.5 8.5l.94-2.06 2.06-.94-2.06-.94L8.5 2.5l-.94 2.06-2.06.94zm10 10l.94 2.06.94-2.06 2.06-.94-2.06-.94-.94-2.06-.94 2.06-2.06.94z\"/><path d=\"M17.41 7.96l-1.37-1.37c-.4-.4-.92-.59-1.43-.59-.52 0-1.04.2-1.43.59L10.3 9.45l-7.72 7.72c-.78.78-.78 2.05 0 2.83L4 21.41c.39.39.9.59 1.41.59.51 0 1.02-.2 1.41-.59l7.78-7.78 2.81-2.81c.8-.78.8-2.07 0-2.86zM5.41 20L4 18.59l7.72-7.72 1.47 1.35L5.41 20z\"/>\n",
              "  </svg>\n",
              "      </button>\n",
              "      \n",
              "  <style>\n",
              "    .colab-df-container {\n",
              "      display:flex;\n",
              "      flex-wrap:wrap;\n",
              "      gap: 12px;\n",
              "    }\n",
              "\n",
              "    .colab-df-convert {\n",
              "      background-color: #E8F0FE;\n",
              "      border: none;\n",
              "      border-radius: 50%;\n",
              "      cursor: pointer;\n",
              "      display: none;\n",
              "      fill: #1967D2;\n",
              "      height: 32px;\n",
              "      padding: 0 0 0 0;\n",
              "      width: 32px;\n",
              "    }\n",
              "\n",
              "    .colab-df-convert:hover {\n",
              "      background-color: #E2EBFA;\n",
              "      box-shadow: 0px 1px 2px rgba(60, 64, 67, 0.3), 0px 1px 3px 1px rgba(60, 64, 67, 0.15);\n",
              "      fill: #174EA6;\n",
              "    }\n",
              "\n",
              "    [theme=dark] .colab-df-convert {\n",
              "      background-color: #3B4455;\n",
              "      fill: #D2E3FC;\n",
              "    }\n",
              "\n",
              "    [theme=dark] .colab-df-convert:hover {\n",
              "      background-color: #434B5C;\n",
              "      box-shadow: 0px 1px 3px 1px rgba(0, 0, 0, 0.15);\n",
              "      filter: drop-shadow(0px 1px 2px rgba(0, 0, 0, 0.3));\n",
              "      fill: #FFFFFF;\n",
              "    }\n",
              "  </style>\n",
              "\n",
              "      <script>\n",
              "        const buttonEl =\n",
              "          document.querySelector('#df-8a569e05-e3ef-4608-beac-7a0f802f0f2a button.colab-df-convert');\n",
              "        buttonEl.style.display =\n",
              "          google.colab.kernel.accessAllowed ? 'block' : 'none';\n",
              "\n",
              "        async function convertToInteractive(key) {\n",
              "          const element = document.querySelector('#df-8a569e05-e3ef-4608-beac-7a0f802f0f2a');\n",
              "          const dataTable =\n",
              "            await google.colab.kernel.invokeFunction('convertToInteractive',\n",
              "                                                     [key], {});\n",
              "          if (!dataTable) return;\n",
              "\n",
              "          const docLinkHtml = 'Like what you see? Visit the ' +\n",
              "            '<a target=\"_blank\" href=https://colab.research.google.com/notebooks/data_table.ipynb>data table notebook</a>'\n",
              "            + ' to learn more about interactive tables.';\n",
              "          element.innerHTML = '';\n",
              "          dataTable['output_type'] = 'display_data';\n",
              "          await google.colab.output.renderOutput(dataTable, element);\n",
              "          const docLink = document.createElement('div');\n",
              "          docLink.innerHTML = docLinkHtml;\n",
              "          element.appendChild(docLink);\n",
              "        }\n",
              "      </script>\n",
              "    </div>\n",
              "  </div>\n",
              "  "
            ]
          },
          "metadata": {},
          "execution_count": 7
        }
      ]
    },
    {
      "cell_type": "markdown",
      "metadata": {
        "id": "b3RjoNHSWB37"
      },
      "source": [
        "#### Dados de Teste: _clients.test.csv_\n",
        "\n",
        "Os **dados de teste** estão [neste arquivo](https://drive.google.com/uc?id=1Pg6AIpM-krtf1aNS3IKUSkoHhun_OxKw) do _Google Drive_."
      ]
    },
    {
      "cell_type": "code",
      "metadata": {
        "id": "7KEDMsoKWUo2"
      },
      "source": [
        "key = 'client_te'"
      ],
      "execution_count": 8,
      "outputs": []
    },
    {
      "cell_type": "code",
      "metadata": {
        "colab": {
          "base_uri": "https://localhost:8080/",
          "height": 109
        },
        "id": "ZsLl1xOJWB38",
        "outputId": "23c81876-1277-4b98-f2c4-cb89e824ab3a"
      },
      "source": [
        " gdown.download(**FILE_INFO[key], quiet=0)"
      ],
      "execution_count": 9,
      "outputs": [
        {
          "output_type": "stream",
          "name": "stderr",
          "text": [
            "Downloading...\n",
            "From: https://drive.google.com/uc?id=1Pg6AIpM-krtf1aNS3IKUSkoHhun_OxKw\n",
            "To: /content/data/client.test.csv\n",
            "100%|██████████| 263k/263k [00:00<00:00, 46.8MB/s]\n"
          ]
        },
        {
          "output_type": "execute_result",
          "data": {
            "text/plain": [
              "'data/client.test.csv'"
            ],
            "application/vnd.google.colaboratory.intrinsic+json": {
              "type": "string"
            }
          },
          "metadata": {},
          "execution_count": 9
        }
      ]
    },
    {
      "cell_type": "code",
      "metadata": {
        "colab": {
          "base_uri": "https://localhost:8080/",
          "height": 455
        },
        "id": "p67ucY_MWB39",
        "outputId": "fcfd9a6e-d2cf-48ec-e4ba-17f04e52f0d0"
      },
      "source": [
        "clients_te = pd.read_csv(\n",
        "    FILE_INFO[key]['output'],\n",
        "    index_col=0, \n",
        "    sep=',', \n",
        "    encoding='utf-8',\n",
        "    parse_dates=['birthdate']\n",
        ")\n",
        "clients_te"
      ],
      "execution_count": 10,
      "outputs": [
        {
          "output_type": "execute_result",
          "data": {
            "text/plain": [
              "           birthdate state gender  is_churn\n",
              "client_id                                  \n",
              "cx06840   1982-12-03  st15    cg1     False\n",
              "cx01931   1979-05-09  st15    cg1     False\n",
              "cx35431   1965-05-09  st15    cg1     False\n",
              "cx36233   1954-03-15  st15    cg2     False\n",
              "cx13540   1965-06-19  st15    cg1     False\n",
              "...              ...   ...    ...       ...\n",
              "cx19119   1980-05-31  st24    cg1     False\n",
              "cx21963   1984-08-25  st15    cg2     False\n",
              "cx37195   1960-01-16  st13    cg2     False\n",
              "cx16851   2000-04-27  st25    cg2     False\n",
              "cx15796   1987-06-25  st01    cg1      True\n",
              "\n",
              "[7764 rows x 4 columns]"
            ],
            "text/html": [
              "\n",
              "  <div id=\"df-0a97d66b-a838-49cc-94b6-8c334bf52d39\">\n",
              "    <div class=\"colab-df-container\">\n",
              "      <div>\n",
              "<style scoped>\n",
              "    .dataframe tbody tr th:only-of-type {\n",
              "        vertical-align: middle;\n",
              "    }\n",
              "\n",
              "    .dataframe tbody tr th {\n",
              "        vertical-align: top;\n",
              "    }\n",
              "\n",
              "    .dataframe thead th {\n",
              "        text-align: right;\n",
              "    }\n",
              "</style>\n",
              "<table border=\"1\" class=\"dataframe\">\n",
              "  <thead>\n",
              "    <tr style=\"text-align: right;\">\n",
              "      <th></th>\n",
              "      <th>birthdate</th>\n",
              "      <th>state</th>\n",
              "      <th>gender</th>\n",
              "      <th>is_churn</th>\n",
              "    </tr>\n",
              "    <tr>\n",
              "      <th>client_id</th>\n",
              "      <th></th>\n",
              "      <th></th>\n",
              "      <th></th>\n",
              "      <th></th>\n",
              "    </tr>\n",
              "  </thead>\n",
              "  <tbody>\n",
              "    <tr>\n",
              "      <th>cx06840</th>\n",
              "      <td>1982-12-03</td>\n",
              "      <td>st15</td>\n",
              "      <td>cg1</td>\n",
              "      <td>False</td>\n",
              "    </tr>\n",
              "    <tr>\n",
              "      <th>cx01931</th>\n",
              "      <td>1979-05-09</td>\n",
              "      <td>st15</td>\n",
              "      <td>cg1</td>\n",
              "      <td>False</td>\n",
              "    </tr>\n",
              "    <tr>\n",
              "      <th>cx35431</th>\n",
              "      <td>1965-05-09</td>\n",
              "      <td>st15</td>\n",
              "      <td>cg1</td>\n",
              "      <td>False</td>\n",
              "    </tr>\n",
              "    <tr>\n",
              "      <th>cx36233</th>\n",
              "      <td>1954-03-15</td>\n",
              "      <td>st15</td>\n",
              "      <td>cg2</td>\n",
              "      <td>False</td>\n",
              "    </tr>\n",
              "    <tr>\n",
              "      <th>cx13540</th>\n",
              "      <td>1965-06-19</td>\n",
              "      <td>st15</td>\n",
              "      <td>cg1</td>\n",
              "      <td>False</td>\n",
              "    </tr>\n",
              "    <tr>\n",
              "      <th>...</th>\n",
              "      <td>...</td>\n",
              "      <td>...</td>\n",
              "      <td>...</td>\n",
              "      <td>...</td>\n",
              "    </tr>\n",
              "    <tr>\n",
              "      <th>cx19119</th>\n",
              "      <td>1980-05-31</td>\n",
              "      <td>st24</td>\n",
              "      <td>cg1</td>\n",
              "      <td>False</td>\n",
              "    </tr>\n",
              "    <tr>\n",
              "      <th>cx21963</th>\n",
              "      <td>1984-08-25</td>\n",
              "      <td>st15</td>\n",
              "      <td>cg2</td>\n",
              "      <td>False</td>\n",
              "    </tr>\n",
              "    <tr>\n",
              "      <th>cx37195</th>\n",
              "      <td>1960-01-16</td>\n",
              "      <td>st13</td>\n",
              "      <td>cg2</td>\n",
              "      <td>False</td>\n",
              "    </tr>\n",
              "    <tr>\n",
              "      <th>cx16851</th>\n",
              "      <td>2000-04-27</td>\n",
              "      <td>st25</td>\n",
              "      <td>cg2</td>\n",
              "      <td>False</td>\n",
              "    </tr>\n",
              "    <tr>\n",
              "      <th>cx15796</th>\n",
              "      <td>1987-06-25</td>\n",
              "      <td>st01</td>\n",
              "      <td>cg1</td>\n",
              "      <td>True</td>\n",
              "    </tr>\n",
              "  </tbody>\n",
              "</table>\n",
              "<p>7764 rows × 4 columns</p>\n",
              "</div>\n",
              "      <button class=\"colab-df-convert\" onclick=\"convertToInteractive('df-0a97d66b-a838-49cc-94b6-8c334bf52d39')\"\n",
              "              title=\"Convert this dataframe to an interactive table.\"\n",
              "              style=\"display:none;\">\n",
              "        \n",
              "  <svg xmlns=\"http://www.w3.org/2000/svg\" height=\"24px\"viewBox=\"0 0 24 24\"\n",
              "       width=\"24px\">\n",
              "    <path d=\"M0 0h24v24H0V0z\" fill=\"none\"/>\n",
              "    <path d=\"M18.56 5.44l.94 2.06.94-2.06 2.06-.94-2.06-.94-.94-2.06-.94 2.06-2.06.94zm-11 1L8.5 8.5l.94-2.06 2.06-.94-2.06-.94L8.5 2.5l-.94 2.06-2.06.94zm10 10l.94 2.06.94-2.06 2.06-.94-2.06-.94-.94-2.06-.94 2.06-2.06.94z\"/><path d=\"M17.41 7.96l-1.37-1.37c-.4-.4-.92-.59-1.43-.59-.52 0-1.04.2-1.43.59L10.3 9.45l-7.72 7.72c-.78.78-.78 2.05 0 2.83L4 21.41c.39.39.9.59 1.41.59.51 0 1.02-.2 1.41-.59l7.78-7.78 2.81-2.81c.8-.78.8-2.07 0-2.86zM5.41 20L4 18.59l7.72-7.72 1.47 1.35L5.41 20z\"/>\n",
              "  </svg>\n",
              "      </button>\n",
              "      \n",
              "  <style>\n",
              "    .colab-df-container {\n",
              "      display:flex;\n",
              "      flex-wrap:wrap;\n",
              "      gap: 12px;\n",
              "    }\n",
              "\n",
              "    .colab-df-convert {\n",
              "      background-color: #E8F0FE;\n",
              "      border: none;\n",
              "      border-radius: 50%;\n",
              "      cursor: pointer;\n",
              "      display: none;\n",
              "      fill: #1967D2;\n",
              "      height: 32px;\n",
              "      padding: 0 0 0 0;\n",
              "      width: 32px;\n",
              "    }\n",
              "\n",
              "    .colab-df-convert:hover {\n",
              "      background-color: #E2EBFA;\n",
              "      box-shadow: 0px 1px 2px rgba(60, 64, 67, 0.3), 0px 1px 3px 1px rgba(60, 64, 67, 0.15);\n",
              "      fill: #174EA6;\n",
              "    }\n",
              "\n",
              "    [theme=dark] .colab-df-convert {\n",
              "      background-color: #3B4455;\n",
              "      fill: #D2E3FC;\n",
              "    }\n",
              "\n",
              "    [theme=dark] .colab-df-convert:hover {\n",
              "      background-color: #434B5C;\n",
              "      box-shadow: 0px 1px 3px 1px rgba(0, 0, 0, 0.15);\n",
              "      filter: drop-shadow(0px 1px 2px rgba(0, 0, 0, 0.3));\n",
              "      fill: #FFFFFF;\n",
              "    }\n",
              "  </style>\n",
              "\n",
              "      <script>\n",
              "        const buttonEl =\n",
              "          document.querySelector('#df-0a97d66b-a838-49cc-94b6-8c334bf52d39 button.colab-df-convert');\n",
              "        buttonEl.style.display =\n",
              "          google.colab.kernel.accessAllowed ? 'block' : 'none';\n",
              "\n",
              "        async function convertToInteractive(key) {\n",
              "          const element = document.querySelector('#df-0a97d66b-a838-49cc-94b6-8c334bf52d39');\n",
              "          const dataTable =\n",
              "            await google.colab.kernel.invokeFunction('convertToInteractive',\n",
              "                                                     [key], {});\n",
              "          if (!dataTable) return;\n",
              "\n",
              "          const docLinkHtml = 'Like what you see? Visit the ' +\n",
              "            '<a target=\"_blank\" href=https://colab.research.google.com/notebooks/data_table.ipynb>data table notebook</a>'\n",
              "            + ' to learn more about interactive tables.';\n",
              "          element.innerHTML = '';\n",
              "          dataTable['output_type'] = 'display_data';\n",
              "          await google.colab.output.renderOutput(dataTable, element);\n",
              "          const docLink = document.createElement('div');\n",
              "          docLink.innerHTML = docLinkHtml;\n",
              "          element.appendChild(docLink);\n",
              "        }\n",
              "      </script>\n",
              "    </div>\n",
              "  </div>\n",
              "  "
            ]
          },
          "metadata": {},
          "execution_count": 10
        }
      ]
    },
    {
      "cell_type": "markdown",
      "metadata": {
        "id": "EuM49yvVWCHx"
      },
      "source": [
        "#### Dados de Desafio: _clients.challenge.csv_\n",
        "\n",
        "Os **dados de desafio** estão [neste arquivo](https://drive.google.com/uc?id=1JBo7SlIuzmkQgRg9VytkNgXLhZyKmPJV) do _Google Drive_. Interessante notar que está faltando a coluna `is_churn`, que não será fornecida para esse _dataset_."
      ]
    },
    {
      "cell_type": "code",
      "metadata": {
        "id": "BvOeNIBjW-WN"
      },
      "source": [
        "key = 'client_ch'"
      ],
      "execution_count": 11,
      "outputs": []
    },
    {
      "cell_type": "code",
      "metadata": {
        "colab": {
          "base_uri": "https://localhost:8080/",
          "height": 109
        },
        "id": "9WaWXJxcWCHz",
        "outputId": "37aeb0be-53b0-4cb3-d8d3-b2f3910839ba"
      },
      "source": [
        " gdown.download(**FILE_INFO[key], quiet=0)"
      ],
      "execution_count": 12,
      "outputs": [
        {
          "output_type": "stream",
          "name": "stderr",
          "text": [
            "Downloading...\n",
            "From: https://drive.google.com/uc?id=1JBo7SlIuzmkQgRg9VytkNgXLhZyKmPJV\n",
            "To: /content/data/client.challenge.csv\n",
            "100%|██████████| 217k/217k [00:00<00:00, 44.4MB/s]\n"
          ]
        },
        {
          "output_type": "execute_result",
          "data": {
            "text/plain": [
              "'data/client.challenge.csv'"
            ],
            "application/vnd.google.colaboratory.intrinsic+json": {
              "type": "string"
            }
          },
          "metadata": {},
          "execution_count": 12
        }
      ]
    },
    {
      "cell_type": "code",
      "metadata": {
        "colab": {
          "base_uri": "https://localhost:8080/",
          "height": 455
        },
        "id": "Iqgs5HdfWCH1",
        "outputId": "04667b37-617f-492d-f1fb-4dfb022a2cbc"
      },
      "source": [
        "clients_ch = pd.read_csv(\n",
        "    FILE_INFO[key]['output'],\n",
        "    index_col=0, \n",
        "    sep=',', \n",
        "    encoding='utf-8',\n",
        "    parse_dates=['birthdate']\n",
        ")\n",
        "clients_ch"
      ],
      "execution_count": 13,
      "outputs": [
        {
          "output_type": "execute_result",
          "data": {
            "text/plain": [
              "           birthdate state gender\n",
              "client_id                        \n",
              "cx12525   1932-04-19  st15    cg1\n",
              "cx32280   1983-03-01  st15    cg1\n",
              "cx00471   1964-08-30  st15    cg2\n",
              "cx18876   1971-04-27  st15    cg2\n",
              "cx38255   1958-01-26  st15    cg1\n",
              "...              ...   ...    ...\n",
              "cx37820   1980-05-01  st04    cg1\n",
              "cx00770   1964-10-12  st18    cg2\n",
              "cx01686   1972-07-20  st24    cg2\n",
              "cx06266   1984-12-28  st15    cg2\n",
              "cx38159   1976-02-13  st04    cg1\n",
              "\n",
              "[7765 rows x 3 columns]"
            ],
            "text/html": [
              "\n",
              "  <div id=\"df-134f01f0-66f2-41c7-a530-ab5ae5d039d1\">\n",
              "    <div class=\"colab-df-container\">\n",
              "      <div>\n",
              "<style scoped>\n",
              "    .dataframe tbody tr th:only-of-type {\n",
              "        vertical-align: middle;\n",
              "    }\n",
              "\n",
              "    .dataframe tbody tr th {\n",
              "        vertical-align: top;\n",
              "    }\n",
              "\n",
              "    .dataframe thead th {\n",
              "        text-align: right;\n",
              "    }\n",
              "</style>\n",
              "<table border=\"1\" class=\"dataframe\">\n",
              "  <thead>\n",
              "    <tr style=\"text-align: right;\">\n",
              "      <th></th>\n",
              "      <th>birthdate</th>\n",
              "      <th>state</th>\n",
              "      <th>gender</th>\n",
              "    </tr>\n",
              "    <tr>\n",
              "      <th>client_id</th>\n",
              "      <th></th>\n",
              "      <th></th>\n",
              "      <th></th>\n",
              "    </tr>\n",
              "  </thead>\n",
              "  <tbody>\n",
              "    <tr>\n",
              "      <th>cx12525</th>\n",
              "      <td>1932-04-19</td>\n",
              "      <td>st15</td>\n",
              "      <td>cg1</td>\n",
              "    </tr>\n",
              "    <tr>\n",
              "      <th>cx32280</th>\n",
              "      <td>1983-03-01</td>\n",
              "      <td>st15</td>\n",
              "      <td>cg1</td>\n",
              "    </tr>\n",
              "    <tr>\n",
              "      <th>cx00471</th>\n",
              "      <td>1964-08-30</td>\n",
              "      <td>st15</td>\n",
              "      <td>cg2</td>\n",
              "    </tr>\n",
              "    <tr>\n",
              "      <th>cx18876</th>\n",
              "      <td>1971-04-27</td>\n",
              "      <td>st15</td>\n",
              "      <td>cg2</td>\n",
              "    </tr>\n",
              "    <tr>\n",
              "      <th>cx38255</th>\n",
              "      <td>1958-01-26</td>\n",
              "      <td>st15</td>\n",
              "      <td>cg1</td>\n",
              "    </tr>\n",
              "    <tr>\n",
              "      <th>...</th>\n",
              "      <td>...</td>\n",
              "      <td>...</td>\n",
              "      <td>...</td>\n",
              "    </tr>\n",
              "    <tr>\n",
              "      <th>cx37820</th>\n",
              "      <td>1980-05-01</td>\n",
              "      <td>st04</td>\n",
              "      <td>cg1</td>\n",
              "    </tr>\n",
              "    <tr>\n",
              "      <th>cx00770</th>\n",
              "      <td>1964-10-12</td>\n",
              "      <td>st18</td>\n",
              "      <td>cg2</td>\n",
              "    </tr>\n",
              "    <tr>\n",
              "      <th>cx01686</th>\n",
              "      <td>1972-07-20</td>\n",
              "      <td>st24</td>\n",
              "      <td>cg2</td>\n",
              "    </tr>\n",
              "    <tr>\n",
              "      <th>cx06266</th>\n",
              "      <td>1984-12-28</td>\n",
              "      <td>st15</td>\n",
              "      <td>cg2</td>\n",
              "    </tr>\n",
              "    <tr>\n",
              "      <th>cx38159</th>\n",
              "      <td>1976-02-13</td>\n",
              "      <td>st04</td>\n",
              "      <td>cg1</td>\n",
              "    </tr>\n",
              "  </tbody>\n",
              "</table>\n",
              "<p>7765 rows × 3 columns</p>\n",
              "</div>\n",
              "      <button class=\"colab-df-convert\" onclick=\"convertToInteractive('df-134f01f0-66f2-41c7-a530-ab5ae5d039d1')\"\n",
              "              title=\"Convert this dataframe to an interactive table.\"\n",
              "              style=\"display:none;\">\n",
              "        \n",
              "  <svg xmlns=\"http://www.w3.org/2000/svg\" height=\"24px\"viewBox=\"0 0 24 24\"\n",
              "       width=\"24px\">\n",
              "    <path d=\"M0 0h24v24H0V0z\" fill=\"none\"/>\n",
              "    <path d=\"M18.56 5.44l.94 2.06.94-2.06 2.06-.94-2.06-.94-.94-2.06-.94 2.06-2.06.94zm-11 1L8.5 8.5l.94-2.06 2.06-.94-2.06-.94L8.5 2.5l-.94 2.06-2.06.94zm10 10l.94 2.06.94-2.06 2.06-.94-2.06-.94-.94-2.06-.94 2.06-2.06.94z\"/><path d=\"M17.41 7.96l-1.37-1.37c-.4-.4-.92-.59-1.43-.59-.52 0-1.04.2-1.43.59L10.3 9.45l-7.72 7.72c-.78.78-.78 2.05 0 2.83L4 21.41c.39.39.9.59 1.41.59.51 0 1.02-.2 1.41-.59l7.78-7.78 2.81-2.81c.8-.78.8-2.07 0-2.86zM5.41 20L4 18.59l7.72-7.72 1.47 1.35L5.41 20z\"/>\n",
              "  </svg>\n",
              "      </button>\n",
              "      \n",
              "  <style>\n",
              "    .colab-df-container {\n",
              "      display:flex;\n",
              "      flex-wrap:wrap;\n",
              "      gap: 12px;\n",
              "    }\n",
              "\n",
              "    .colab-df-convert {\n",
              "      background-color: #E8F0FE;\n",
              "      border: none;\n",
              "      border-radius: 50%;\n",
              "      cursor: pointer;\n",
              "      display: none;\n",
              "      fill: #1967D2;\n",
              "      height: 32px;\n",
              "      padding: 0 0 0 0;\n",
              "      width: 32px;\n",
              "    }\n",
              "\n",
              "    .colab-df-convert:hover {\n",
              "      background-color: #E2EBFA;\n",
              "      box-shadow: 0px 1px 2px rgba(60, 64, 67, 0.3), 0px 1px 3px 1px rgba(60, 64, 67, 0.15);\n",
              "      fill: #174EA6;\n",
              "    }\n",
              "\n",
              "    [theme=dark] .colab-df-convert {\n",
              "      background-color: #3B4455;\n",
              "      fill: #D2E3FC;\n",
              "    }\n",
              "\n",
              "    [theme=dark] .colab-df-convert:hover {\n",
              "      background-color: #434B5C;\n",
              "      box-shadow: 0px 1px 3px 1px rgba(0, 0, 0, 0.15);\n",
              "      filter: drop-shadow(0px 1px 2px rgba(0, 0, 0, 0.3));\n",
              "      fill: #FFFFFF;\n",
              "    }\n",
              "  </style>\n",
              "\n",
              "      <script>\n",
              "        const buttonEl =\n",
              "          document.querySelector('#df-134f01f0-66f2-41c7-a530-ab5ae5d039d1 button.colab-df-convert');\n",
              "        buttonEl.style.display =\n",
              "          google.colab.kernel.accessAllowed ? 'block' : 'none';\n",
              "\n",
              "        async function convertToInteractive(key) {\n",
              "          const element = document.querySelector('#df-134f01f0-66f2-41c7-a530-ab5ae5d039d1');\n",
              "          const dataTable =\n",
              "            await google.colab.kernel.invokeFunction('convertToInteractive',\n",
              "                                                     [key], {});\n",
              "          if (!dataTable) return;\n",
              "\n",
              "          const docLinkHtml = 'Like what you see? Visit the ' +\n",
              "            '<a target=\"_blank\" href=https://colab.research.google.com/notebooks/data_table.ipynb>data table notebook</a>'\n",
              "            + ' to learn more about interactive tables.';\n",
              "          element.innerHTML = '';\n",
              "          dataTable['output_type'] = 'display_data';\n",
              "          await google.colab.output.renderOutput(dataTable, element);\n",
              "          const docLink = document.createElement('div');\n",
              "          docLink.innerHTML = docLinkHtml;\n",
              "          element.appendChild(docLink);\n",
              "        }\n",
              "      </script>\n",
              "    </div>\n",
              "  </div>\n",
              "  "
            ]
          },
          "metadata": {},
          "execution_count": 13
        }
      ]
    },
    {
      "cell_type": "markdown",
      "source": [
        "##### 2.2.2 Dados de Produtos\n",
        "\n",
        "Os **dados de produto** estão [neste arquivo](https://drive.google.com/uc?id=1wU65H2mwrdd8BhVM8hITCB9sfRVNHFwQ) do _Google Drive_."
      ],
      "metadata": {
        "id": "9oaOHVjJdmdF"
      }
    },
    {
      "cell_type": "markdown",
      "source": [
        "##### 2.2.2.1 Colunas da Tabela de Produtos\n",
        "\n",
        "As colunas da Tabela de Produtos são todas simbólicas, representando as diferentes categorias da **árvore de Estrutura Mercadológica** onde o produto está inserido. \n",
        "\n",
        "Os nomes das subcategorias herdam o nome da categoria pai, de forma que todas as subcategorias da coluna `category_lv2` que começam com \"mk38:072\" possuem como categoria pai a `category_lv1` de nome \"mk38:072\", que por sua vez é filho da `category_lv0` de nome \"mk38\".\n",
        "\n",
        "Um exemplo da categorização:\n",
        "\n",
        "- `category_lv0`: Categorias mais abrangentes dos produtos; e.g. \"Eletrônicos\" ou \"Moda\"\n",
        "- `category_lv1`: Subcategorias; e.g. \"Eletrônicos->Notebooks\"\n",
        "- `category_lv2`: Sub-subcategorias; e.g. \"Eletrônicos->Notebooks->UltraFinos\"\n",
        "\n",
        "e assim por diante.\n",
        "\n",
        "A coluna `product_id` é a referência global de produtos, que pode ser combinada por _merge_ com a tabela de vendas."
      ],
      "metadata": {
        "id": "aUiHhVf4eJgt"
      }
    },
    {
      "cell_type": "code",
      "metadata": {
        "id": "gjIWs30OXNRP"
      },
      "source": [
        "key = 'product'"
      ],
      "execution_count": 14,
      "outputs": []
    },
    {
      "cell_type": "code",
      "metadata": {
        "colab": {
          "base_uri": "https://localhost:8080/",
          "height": 109
        },
        "id": "cgd5YFwRXNRQ",
        "outputId": "0ec9b63d-fd12-41ad-d626-bc345d9a0c34"
      },
      "source": [
        " gdown.download(**FILE_INFO[key], quiet=0)"
      ],
      "execution_count": 15,
      "outputs": [
        {
          "output_type": "stream",
          "name": "stderr",
          "text": [
            "Downloading...\n",
            "From: https://drive.google.com/uc?id=1wU65H2mwrdd8BhVM8hITCB9sfRVNHFwQ\n",
            "To: /content/data/product.csv\n",
            "100%|██████████| 950k/950k [00:00<00:00, 56.9MB/s]\n"
          ]
        },
        {
          "output_type": "execute_result",
          "data": {
            "text/plain": [
              "'data/product.csv'"
            ],
            "application/vnd.google.colaboratory.intrinsic+json": {
              "type": "string"
            }
          },
          "metadata": {},
          "execution_count": 15
        }
      ]
    },
    {
      "cell_type": "code",
      "metadata": {
        "colab": {
          "base_uri": "https://localhost:8080/",
          "height": 455
        },
        "id": "pKAHyPpeXNRS",
        "outputId": "77cacee2-bf39-45df-d5ad-ca3d43e59167"
      },
      "source": [
        "product = pd.read_csv(\n",
        "    FILE_INFO[key]['output'],\n",
        "    index_col=0, \n",
        "    sep=',', \n",
        "    encoding='utf-8'\n",
        ")\n",
        "product"
      ],
      "execution_count": 16,
      "outputs": [
        {
          "output_type": "execute_result",
          "data": {
            "text/plain": [
              "           category_lv0 category_lv1  category_lv2      category_lv3  \\\n",
              "product_id                                                             \n",
              "px01237            mk38     mk38:072  mk38:072:149  mk38:072:149:218   \n",
              "px11510            mk38     mk38:072  mk38:072:149  mk38:072:149:218   \n",
              "px03782            mk38     mk38:072  mk38:072:019  mk38:072:019:066   \n",
              "px04092            mk38     mk38:072  mk38:072:019  mk38:072:019:054   \n",
              "px07429            mk38     mk38:072  mk38:072:078  mk38:072:078:182   \n",
              "...                 ...          ...           ...               ...   \n",
              "px11965            mk35     mk35:072  mk35:072:122  mk35:072:122:182   \n",
              "px05192            mk35     mk35:072  mk35:072:122  mk35:072:122:182   \n",
              "px05391            mk38     mk38:107  mk38:107:357  mk38:107:357:182   \n",
              "px00861            mk35     mk35:072  mk35:072:177  mk35:072:177:182   \n",
              "px07271            mk05     mk05:072  mk05:072:177  mk05:072:177:182   \n",
              "\n",
              "                      category_lv4  \n",
              "product_id                          \n",
              "px01237     mk38:072:149:218:04846  \n",
              "px11510     mk38:072:149:218:01337  \n",
              "px03782     mk38:072:019:066:02321  \n",
              "px04092     mk38:072:019:054:06035  \n",
              "px07429     mk38:072:078:182:07218  \n",
              "...                            ...  \n",
              "px11965     mk35:072:122:182:00392  \n",
              "px05192     mk35:072:122:182:02028  \n",
              "px05391     mk38:107:357:182:08006  \n",
              "px00861     mk35:072:177:182:03018  \n",
              "px07271     mk05:072:177:182:04256  \n",
              "\n",
              "[12659 rows x 5 columns]"
            ],
            "text/html": [
              "\n",
              "  <div id=\"df-49f59a3f-9ed1-434f-86e6-dc29f0f54c52\">\n",
              "    <div class=\"colab-df-container\">\n",
              "      <div>\n",
              "<style scoped>\n",
              "    .dataframe tbody tr th:only-of-type {\n",
              "        vertical-align: middle;\n",
              "    }\n",
              "\n",
              "    .dataframe tbody tr th {\n",
              "        vertical-align: top;\n",
              "    }\n",
              "\n",
              "    .dataframe thead th {\n",
              "        text-align: right;\n",
              "    }\n",
              "</style>\n",
              "<table border=\"1\" class=\"dataframe\">\n",
              "  <thead>\n",
              "    <tr style=\"text-align: right;\">\n",
              "      <th></th>\n",
              "      <th>category_lv0</th>\n",
              "      <th>category_lv1</th>\n",
              "      <th>category_lv2</th>\n",
              "      <th>category_lv3</th>\n",
              "      <th>category_lv4</th>\n",
              "    </tr>\n",
              "    <tr>\n",
              "      <th>product_id</th>\n",
              "      <th></th>\n",
              "      <th></th>\n",
              "      <th></th>\n",
              "      <th></th>\n",
              "      <th></th>\n",
              "    </tr>\n",
              "  </thead>\n",
              "  <tbody>\n",
              "    <tr>\n",
              "      <th>px01237</th>\n",
              "      <td>mk38</td>\n",
              "      <td>mk38:072</td>\n",
              "      <td>mk38:072:149</td>\n",
              "      <td>mk38:072:149:218</td>\n",
              "      <td>mk38:072:149:218:04846</td>\n",
              "    </tr>\n",
              "    <tr>\n",
              "      <th>px11510</th>\n",
              "      <td>mk38</td>\n",
              "      <td>mk38:072</td>\n",
              "      <td>mk38:072:149</td>\n",
              "      <td>mk38:072:149:218</td>\n",
              "      <td>mk38:072:149:218:01337</td>\n",
              "    </tr>\n",
              "    <tr>\n",
              "      <th>px03782</th>\n",
              "      <td>mk38</td>\n",
              "      <td>mk38:072</td>\n",
              "      <td>mk38:072:019</td>\n",
              "      <td>mk38:072:019:066</td>\n",
              "      <td>mk38:072:019:066:02321</td>\n",
              "    </tr>\n",
              "    <tr>\n",
              "      <th>px04092</th>\n",
              "      <td>mk38</td>\n",
              "      <td>mk38:072</td>\n",
              "      <td>mk38:072:019</td>\n",
              "      <td>mk38:072:019:054</td>\n",
              "      <td>mk38:072:019:054:06035</td>\n",
              "    </tr>\n",
              "    <tr>\n",
              "      <th>px07429</th>\n",
              "      <td>mk38</td>\n",
              "      <td>mk38:072</td>\n",
              "      <td>mk38:072:078</td>\n",
              "      <td>mk38:072:078:182</td>\n",
              "      <td>mk38:072:078:182:07218</td>\n",
              "    </tr>\n",
              "    <tr>\n",
              "      <th>...</th>\n",
              "      <td>...</td>\n",
              "      <td>...</td>\n",
              "      <td>...</td>\n",
              "      <td>...</td>\n",
              "      <td>...</td>\n",
              "    </tr>\n",
              "    <tr>\n",
              "      <th>px11965</th>\n",
              "      <td>mk35</td>\n",
              "      <td>mk35:072</td>\n",
              "      <td>mk35:072:122</td>\n",
              "      <td>mk35:072:122:182</td>\n",
              "      <td>mk35:072:122:182:00392</td>\n",
              "    </tr>\n",
              "    <tr>\n",
              "      <th>px05192</th>\n",
              "      <td>mk35</td>\n",
              "      <td>mk35:072</td>\n",
              "      <td>mk35:072:122</td>\n",
              "      <td>mk35:072:122:182</td>\n",
              "      <td>mk35:072:122:182:02028</td>\n",
              "    </tr>\n",
              "    <tr>\n",
              "      <th>px05391</th>\n",
              "      <td>mk38</td>\n",
              "      <td>mk38:107</td>\n",
              "      <td>mk38:107:357</td>\n",
              "      <td>mk38:107:357:182</td>\n",
              "      <td>mk38:107:357:182:08006</td>\n",
              "    </tr>\n",
              "    <tr>\n",
              "      <th>px00861</th>\n",
              "      <td>mk35</td>\n",
              "      <td>mk35:072</td>\n",
              "      <td>mk35:072:177</td>\n",
              "      <td>mk35:072:177:182</td>\n",
              "      <td>mk35:072:177:182:03018</td>\n",
              "    </tr>\n",
              "    <tr>\n",
              "      <th>px07271</th>\n",
              "      <td>mk05</td>\n",
              "      <td>mk05:072</td>\n",
              "      <td>mk05:072:177</td>\n",
              "      <td>mk05:072:177:182</td>\n",
              "      <td>mk05:072:177:182:04256</td>\n",
              "    </tr>\n",
              "  </tbody>\n",
              "</table>\n",
              "<p>12659 rows × 5 columns</p>\n",
              "</div>\n",
              "      <button class=\"colab-df-convert\" onclick=\"convertToInteractive('df-49f59a3f-9ed1-434f-86e6-dc29f0f54c52')\"\n",
              "              title=\"Convert this dataframe to an interactive table.\"\n",
              "              style=\"display:none;\">\n",
              "        \n",
              "  <svg xmlns=\"http://www.w3.org/2000/svg\" height=\"24px\"viewBox=\"0 0 24 24\"\n",
              "       width=\"24px\">\n",
              "    <path d=\"M0 0h24v24H0V0z\" fill=\"none\"/>\n",
              "    <path d=\"M18.56 5.44l.94 2.06.94-2.06 2.06-.94-2.06-.94-.94-2.06-.94 2.06-2.06.94zm-11 1L8.5 8.5l.94-2.06 2.06-.94-2.06-.94L8.5 2.5l-.94 2.06-2.06.94zm10 10l.94 2.06.94-2.06 2.06-.94-2.06-.94-.94-2.06-.94 2.06-2.06.94z\"/><path d=\"M17.41 7.96l-1.37-1.37c-.4-.4-.92-.59-1.43-.59-.52 0-1.04.2-1.43.59L10.3 9.45l-7.72 7.72c-.78.78-.78 2.05 0 2.83L4 21.41c.39.39.9.59 1.41.59.51 0 1.02-.2 1.41-.59l7.78-7.78 2.81-2.81c.8-.78.8-2.07 0-2.86zM5.41 20L4 18.59l7.72-7.72 1.47 1.35L5.41 20z\"/>\n",
              "  </svg>\n",
              "      </button>\n",
              "      \n",
              "  <style>\n",
              "    .colab-df-container {\n",
              "      display:flex;\n",
              "      flex-wrap:wrap;\n",
              "      gap: 12px;\n",
              "    }\n",
              "\n",
              "    .colab-df-convert {\n",
              "      background-color: #E8F0FE;\n",
              "      border: none;\n",
              "      border-radius: 50%;\n",
              "      cursor: pointer;\n",
              "      display: none;\n",
              "      fill: #1967D2;\n",
              "      height: 32px;\n",
              "      padding: 0 0 0 0;\n",
              "      width: 32px;\n",
              "    }\n",
              "\n",
              "    .colab-df-convert:hover {\n",
              "      background-color: #E2EBFA;\n",
              "      box-shadow: 0px 1px 2px rgba(60, 64, 67, 0.3), 0px 1px 3px 1px rgba(60, 64, 67, 0.15);\n",
              "      fill: #174EA6;\n",
              "    }\n",
              "\n",
              "    [theme=dark] .colab-df-convert {\n",
              "      background-color: #3B4455;\n",
              "      fill: #D2E3FC;\n",
              "    }\n",
              "\n",
              "    [theme=dark] .colab-df-convert:hover {\n",
              "      background-color: #434B5C;\n",
              "      box-shadow: 0px 1px 3px 1px rgba(0, 0, 0, 0.15);\n",
              "      filter: drop-shadow(0px 1px 2px rgba(0, 0, 0, 0.3));\n",
              "      fill: #FFFFFF;\n",
              "    }\n",
              "  </style>\n",
              "\n",
              "      <script>\n",
              "        const buttonEl =\n",
              "          document.querySelector('#df-49f59a3f-9ed1-434f-86e6-dc29f0f54c52 button.colab-df-convert');\n",
              "        buttonEl.style.display =\n",
              "          google.colab.kernel.accessAllowed ? 'block' : 'none';\n",
              "\n",
              "        async function convertToInteractive(key) {\n",
              "          const element = document.querySelector('#df-49f59a3f-9ed1-434f-86e6-dc29f0f54c52');\n",
              "          const dataTable =\n",
              "            await google.colab.kernel.invokeFunction('convertToInteractive',\n",
              "                                                     [key], {});\n",
              "          if (!dataTable) return;\n",
              "\n",
              "          const docLinkHtml = 'Like what you see? Visit the ' +\n",
              "            '<a target=\"_blank\" href=https://colab.research.google.com/notebooks/data_table.ipynb>data table notebook</a>'\n",
              "            + ' to learn more about interactive tables.';\n",
              "          element.innerHTML = '';\n",
              "          dataTable['output_type'] = 'display_data';\n",
              "          await google.colab.output.renderOutput(dataTable, element);\n",
              "          const docLink = document.createElement('div');\n",
              "          docLink.innerHTML = docLinkHtml;\n",
              "          element.appendChild(docLink);\n",
              "        }\n",
              "      </script>\n",
              "    </div>\n",
              "  </div>\n",
              "  "
            ]
          },
          "metadata": {},
          "execution_count": 16
        }
      ]
    },
    {
      "cell_type": "markdown",
      "source": [
        "##### 2.2.3 Dados de Histórico de Vendas\n",
        "\n",
        "Os **dados do histórico de todas as vendas** de 2019 para **todos os clientes** nos 3 datasets de cliente que compraram qualquer produto - todos contidos no dataset de produtos - estão [neste arquivo](https://drive.google.com/uc?id=1sk7p66kMAu4ZfAUmYVH0YF-cx2kHd4UZ) do _Google Drive_."
      ],
      "metadata": {
        "id": "CPpltBTjfiu4"
      }
    },
    {
      "cell_type": "markdown",
      "source": [],
      "metadata": {
        "id": "RUX90Jj7f1dm"
      }
    },
    {
      "cell_type": "markdown",
      "metadata": {
        "id": "CjONM9YbbzOk"
      },
      "source": [
        "##### 2.2.3.1 Colunas da Tabela de Produtos\n",
        "As colunas dessa tabela estão descritas a seguir.\n",
        "\n",
        "As colunas de ID de entidade são:\n",
        "- `order_id`: identificador da venda; pode estar repetida em outras linhas, pois **cada linha corresponde à compra de um produto por um cliente**, que pode ter comprado outros produtos no mesmo evento.\n",
        "- `client_id`: identificador do cliente que realizou a compra\n",
        "- `datetime`: data e hora da compra\n",
        "- `units`: quantidade de unidades do produto que foram comprados nesse evento de compra\n",
        "- `price`: preço unitário do produto comprado\n",
        "- `payment_method`: forma de pagamento (crétido, débito, _voucher_, etc) da compra\n",
        "- `installments`: número de parcelas do pagamento; se estiver vazio, pode-se considerar que não se aplica\n",
        "- `delivery_days`: prazo de entrega do produto\n",
        "- `delivery_state`: estado onde ocorreu a entrega do produto; corresponde exatamente ao estado nas tabelas de cliente\n",
        "- `device`: meio por onde  o cliente comprou; e.g. site, aplicativo do celular, terminal de compras\n",
        "- `source`: canal de _marketing_ que gerou o _lead_ e ocasionou ao cliente comprar; por exemplo, pode ser um link em uma página parceira onde o cliente viu uma promoção"
      ]
    },
    {
      "cell_type": "code",
      "metadata": {
        "id": "2G7AXotTXOJx"
      },
      "source": [
        "key = 'orders'"
      ],
      "execution_count": 20,
      "outputs": []
    },
    {
      "cell_type": "code",
      "metadata": {
        "colab": {
          "base_uri": "https://localhost:8080/",
          "height": 109
        },
        "id": "GXb8A48AXOJy",
        "outputId": "94c8d62b-4093-4eac-8657-3ed370d65940"
      },
      "source": [
        " gdown.download(**FILE_INFO[key], quiet=0)"
      ],
      "execution_count": 21,
      "outputs": [
        {
          "output_type": "stream",
          "name": "stderr",
          "text": [
            "Downloading...\n",
            "From: https://drive.google.com/uc?id=1sk7p66kMAu4ZfAUmYVH0YF-cx2kHd4UZ\n",
            "To: /content/data/orders.csv\n",
            "100%|██████████| 13.3M/13.3M [00:00<00:00, 77.3MB/s]\n"
          ]
        },
        {
          "output_type": "execute_result",
          "data": {
            "text/plain": [
              "'data/orders.csv'"
            ],
            "application/vnd.google.colaboratory.intrinsic+json": {
              "type": "string"
            }
          },
          "metadata": {},
          "execution_count": 21
        }
      ]
    },
    {
      "cell_type": "code",
      "metadata": {
        "colab": {
          "base_uri": "https://localhost:8080/",
          "height": 866
        },
        "id": "gDpQIlO3XOJy",
        "outputId": "7bb52004-4868-48b9-8bfd-d96646a3887a"
      },
      "source": [
        "orders = pd.read_csv(\n",
        "    FILE_INFO[key]['output'],\n",
        "    index_col=0, \n",
        "    sep=',', \n",
        "    encoding='utf-8',\n",
        "    parse_dates=['datetime']\n",
        ")\n",
        "orders"
      ],
      "execution_count": 22,
      "outputs": [
        {
          "output_type": "execute_result",
          "data": {
            "text/plain": [
              "         client_id product_id            datetime  units   price  \\\n",
              "order_id                                                           \n",
              "ox008433   cx05072    px04611 2019-10-07 15:20:00    1.0   49.90   \n",
              "ox070389   cx05072    px12305 2019-10-11 17:42:00    1.0   69.90   \n",
              "ox061137   cx06840    px07033 2019-01-19 13:09:00    1.0   35.90   \n",
              "ox061137   cx06840    px05992 2019-01-19 13:09:00    3.0   35.90   \n",
              "ox038612   cx06840    px10040 2019-04-18 14:36:00    1.0   39.00   \n",
              "...            ...        ...                 ...    ...     ...   \n",
              "ox081422   cx15796    px08541 2019-06-25 11:50:00    1.0  246.50   \n",
              "ox081422   cx15796    px05166 2019-06-25 11:50:00    1.0  652.50   \n",
              "ox128219   cx15796    px12043 2019-09-06 11:45:00    2.0   15.00   \n",
              "ox126589   cx15796    px12043 2019-09-07 04:39:00    1.0   15.00   \n",
              "ox079633   cx15796    px07618 2019-11-19 07:53:00    1.0  263.42   \n",
              "\n",
              "         payment_method  installments  delivery_days delivery_state device  \\\n",
              "order_id                                                                     \n",
              "ox008433           pm05           NaN            NaN           st07    dv9   \n",
              "ox070389           pm05           NaN            NaN           st07    dv9   \n",
              "ox061137           pm05           NaN            NaN           st07    dv9   \n",
              "ox061137           pm05           NaN            NaN           st07    dv9   \n",
              "ox038612           pm05           NaN            NaN           st07    dv9   \n",
              "...                 ...           ...            ...            ...    ...   \n",
              "ox081422           pm14          10.0           21.0           st01    dv5   \n",
              "ox081422           pm14          10.0           21.0           st01    dv5   \n",
              "ox128219           pm05           NaN            NaN           st07    dv9   \n",
              "ox126589           pm10           1.0            0.0           st01    dv3   \n",
              "ox079633           pm10           1.0            2.0           st01    dv3   \n",
              "\n",
              "         source  \n",
              "order_id         \n",
              "ox008433   sc08  \n",
              "ox070389   sc08  \n",
              "ox061137   sc08  \n",
              "ox061137   sc08  \n",
              "ox038612   sc08  \n",
              "...         ...  \n",
              "ox081422   sc11  \n",
              "ox081422   sc11  \n",
              "ox128219   sc08  \n",
              "ox126589   sc12  \n",
              "ox079633   sc12  \n",
              "\n",
              "[168472 rows x 11 columns]"
            ],
            "text/html": [
              "\n",
              "  <div id=\"df-13b78b78-af7d-4e93-934f-8f098cde159d\">\n",
              "    <div class=\"colab-df-container\">\n",
              "      <div>\n",
              "<style scoped>\n",
              "    .dataframe tbody tr th:only-of-type {\n",
              "        vertical-align: middle;\n",
              "    }\n",
              "\n",
              "    .dataframe tbody tr th {\n",
              "        vertical-align: top;\n",
              "    }\n",
              "\n",
              "    .dataframe thead th {\n",
              "        text-align: right;\n",
              "    }\n",
              "</style>\n",
              "<table border=\"1\" class=\"dataframe\">\n",
              "  <thead>\n",
              "    <tr style=\"text-align: right;\">\n",
              "      <th></th>\n",
              "      <th>client_id</th>\n",
              "      <th>product_id</th>\n",
              "      <th>datetime</th>\n",
              "      <th>units</th>\n",
              "      <th>price</th>\n",
              "      <th>payment_method</th>\n",
              "      <th>installments</th>\n",
              "      <th>delivery_days</th>\n",
              "      <th>delivery_state</th>\n",
              "      <th>device</th>\n",
              "      <th>source</th>\n",
              "    </tr>\n",
              "    <tr>\n",
              "      <th>order_id</th>\n",
              "      <th></th>\n",
              "      <th></th>\n",
              "      <th></th>\n",
              "      <th></th>\n",
              "      <th></th>\n",
              "      <th></th>\n",
              "      <th></th>\n",
              "      <th></th>\n",
              "      <th></th>\n",
              "      <th></th>\n",
              "      <th></th>\n",
              "    </tr>\n",
              "  </thead>\n",
              "  <tbody>\n",
              "    <tr>\n",
              "      <th>ox008433</th>\n",
              "      <td>cx05072</td>\n",
              "      <td>px04611</td>\n",
              "      <td>2019-10-07 15:20:00</td>\n",
              "      <td>1.0</td>\n",
              "      <td>49.90</td>\n",
              "      <td>pm05</td>\n",
              "      <td>NaN</td>\n",
              "      <td>NaN</td>\n",
              "      <td>st07</td>\n",
              "      <td>dv9</td>\n",
              "      <td>sc08</td>\n",
              "    </tr>\n",
              "    <tr>\n",
              "      <th>ox070389</th>\n",
              "      <td>cx05072</td>\n",
              "      <td>px12305</td>\n",
              "      <td>2019-10-11 17:42:00</td>\n",
              "      <td>1.0</td>\n",
              "      <td>69.90</td>\n",
              "      <td>pm05</td>\n",
              "      <td>NaN</td>\n",
              "      <td>NaN</td>\n",
              "      <td>st07</td>\n",
              "      <td>dv9</td>\n",
              "      <td>sc08</td>\n",
              "    </tr>\n",
              "    <tr>\n",
              "      <th>ox061137</th>\n",
              "      <td>cx06840</td>\n",
              "      <td>px07033</td>\n",
              "      <td>2019-01-19 13:09:00</td>\n",
              "      <td>1.0</td>\n",
              "      <td>35.90</td>\n",
              "      <td>pm05</td>\n",
              "      <td>NaN</td>\n",
              "      <td>NaN</td>\n",
              "      <td>st07</td>\n",
              "      <td>dv9</td>\n",
              "      <td>sc08</td>\n",
              "    </tr>\n",
              "    <tr>\n",
              "      <th>ox061137</th>\n",
              "      <td>cx06840</td>\n",
              "      <td>px05992</td>\n",
              "      <td>2019-01-19 13:09:00</td>\n",
              "      <td>3.0</td>\n",
              "      <td>35.90</td>\n",
              "      <td>pm05</td>\n",
              "      <td>NaN</td>\n",
              "      <td>NaN</td>\n",
              "      <td>st07</td>\n",
              "      <td>dv9</td>\n",
              "      <td>sc08</td>\n",
              "    </tr>\n",
              "    <tr>\n",
              "      <th>ox038612</th>\n",
              "      <td>cx06840</td>\n",
              "      <td>px10040</td>\n",
              "      <td>2019-04-18 14:36:00</td>\n",
              "      <td>1.0</td>\n",
              "      <td>39.00</td>\n",
              "      <td>pm05</td>\n",
              "      <td>NaN</td>\n",
              "      <td>NaN</td>\n",
              "      <td>st07</td>\n",
              "      <td>dv9</td>\n",
              "      <td>sc08</td>\n",
              "    </tr>\n",
              "    <tr>\n",
              "      <th>...</th>\n",
              "      <td>...</td>\n",
              "      <td>...</td>\n",
              "      <td>...</td>\n",
              "      <td>...</td>\n",
              "      <td>...</td>\n",
              "      <td>...</td>\n",
              "      <td>...</td>\n",
              "      <td>...</td>\n",
              "      <td>...</td>\n",
              "      <td>...</td>\n",
              "      <td>...</td>\n",
              "    </tr>\n",
              "    <tr>\n",
              "      <th>ox081422</th>\n",
              "      <td>cx15796</td>\n",
              "      <td>px08541</td>\n",
              "      <td>2019-06-25 11:50:00</td>\n",
              "      <td>1.0</td>\n",
              "      <td>246.50</td>\n",
              "      <td>pm14</td>\n",
              "      <td>10.0</td>\n",
              "      <td>21.0</td>\n",
              "      <td>st01</td>\n",
              "      <td>dv5</td>\n",
              "      <td>sc11</td>\n",
              "    </tr>\n",
              "    <tr>\n",
              "      <th>ox081422</th>\n",
              "      <td>cx15796</td>\n",
              "      <td>px05166</td>\n",
              "      <td>2019-06-25 11:50:00</td>\n",
              "      <td>1.0</td>\n",
              "      <td>652.50</td>\n",
              "      <td>pm14</td>\n",
              "      <td>10.0</td>\n",
              "      <td>21.0</td>\n",
              "      <td>st01</td>\n",
              "      <td>dv5</td>\n",
              "      <td>sc11</td>\n",
              "    </tr>\n",
              "    <tr>\n",
              "      <th>ox128219</th>\n",
              "      <td>cx15796</td>\n",
              "      <td>px12043</td>\n",
              "      <td>2019-09-06 11:45:00</td>\n",
              "      <td>2.0</td>\n",
              "      <td>15.00</td>\n",
              "      <td>pm05</td>\n",
              "      <td>NaN</td>\n",
              "      <td>NaN</td>\n",
              "      <td>st07</td>\n",
              "      <td>dv9</td>\n",
              "      <td>sc08</td>\n",
              "    </tr>\n",
              "    <tr>\n",
              "      <th>ox126589</th>\n",
              "      <td>cx15796</td>\n",
              "      <td>px12043</td>\n",
              "      <td>2019-09-07 04:39:00</td>\n",
              "      <td>1.0</td>\n",
              "      <td>15.00</td>\n",
              "      <td>pm10</td>\n",
              "      <td>1.0</td>\n",
              "      <td>0.0</td>\n",
              "      <td>st01</td>\n",
              "      <td>dv3</td>\n",
              "      <td>sc12</td>\n",
              "    </tr>\n",
              "    <tr>\n",
              "      <th>ox079633</th>\n",
              "      <td>cx15796</td>\n",
              "      <td>px07618</td>\n",
              "      <td>2019-11-19 07:53:00</td>\n",
              "      <td>1.0</td>\n",
              "      <td>263.42</td>\n",
              "      <td>pm10</td>\n",
              "      <td>1.0</td>\n",
              "      <td>2.0</td>\n",
              "      <td>st01</td>\n",
              "      <td>dv3</td>\n",
              "      <td>sc12</td>\n",
              "    </tr>\n",
              "  </tbody>\n",
              "</table>\n",
              "<p>168472 rows × 11 columns</p>\n",
              "</div>\n",
              "      <button class=\"colab-df-convert\" onclick=\"convertToInteractive('df-13b78b78-af7d-4e93-934f-8f098cde159d')\"\n",
              "              title=\"Convert this dataframe to an interactive table.\"\n",
              "              style=\"display:none;\">\n",
              "        \n",
              "  <svg xmlns=\"http://www.w3.org/2000/svg\" height=\"24px\"viewBox=\"0 0 24 24\"\n",
              "       width=\"24px\">\n",
              "    <path d=\"M0 0h24v24H0V0z\" fill=\"none\"/>\n",
              "    <path d=\"M18.56 5.44l.94 2.06.94-2.06 2.06-.94-2.06-.94-.94-2.06-.94 2.06-2.06.94zm-11 1L8.5 8.5l.94-2.06 2.06-.94-2.06-.94L8.5 2.5l-.94 2.06-2.06.94zm10 10l.94 2.06.94-2.06 2.06-.94-2.06-.94-.94-2.06-.94 2.06-2.06.94z\"/><path d=\"M17.41 7.96l-1.37-1.37c-.4-.4-.92-.59-1.43-.59-.52 0-1.04.2-1.43.59L10.3 9.45l-7.72 7.72c-.78.78-.78 2.05 0 2.83L4 21.41c.39.39.9.59 1.41.59.51 0 1.02-.2 1.41-.59l7.78-7.78 2.81-2.81c.8-.78.8-2.07 0-2.86zM5.41 20L4 18.59l7.72-7.72 1.47 1.35L5.41 20z\"/>\n",
              "  </svg>\n",
              "      </button>\n",
              "      \n",
              "  <style>\n",
              "    .colab-df-container {\n",
              "      display:flex;\n",
              "      flex-wrap:wrap;\n",
              "      gap: 12px;\n",
              "    }\n",
              "\n",
              "    .colab-df-convert {\n",
              "      background-color: #E8F0FE;\n",
              "      border: none;\n",
              "      border-radius: 50%;\n",
              "      cursor: pointer;\n",
              "      display: none;\n",
              "      fill: #1967D2;\n",
              "      height: 32px;\n",
              "      padding: 0 0 0 0;\n",
              "      width: 32px;\n",
              "    }\n",
              "\n",
              "    .colab-df-convert:hover {\n",
              "      background-color: #E2EBFA;\n",
              "      box-shadow: 0px 1px 2px rgba(60, 64, 67, 0.3), 0px 1px 3px 1px rgba(60, 64, 67, 0.15);\n",
              "      fill: #174EA6;\n",
              "    }\n",
              "\n",
              "    [theme=dark] .colab-df-convert {\n",
              "      background-color: #3B4455;\n",
              "      fill: #D2E3FC;\n",
              "    }\n",
              "\n",
              "    [theme=dark] .colab-df-convert:hover {\n",
              "      background-color: #434B5C;\n",
              "      box-shadow: 0px 1px 3px 1px rgba(0, 0, 0, 0.15);\n",
              "      filter: drop-shadow(0px 1px 2px rgba(0, 0, 0, 0.3));\n",
              "      fill: #FFFFFF;\n",
              "    }\n",
              "  </style>\n",
              "\n",
              "      <script>\n",
              "        const buttonEl =\n",
              "          document.querySelector('#df-13b78b78-af7d-4e93-934f-8f098cde159d button.colab-df-convert');\n",
              "        buttonEl.style.display =\n",
              "          google.colab.kernel.accessAllowed ? 'block' : 'none';\n",
              "\n",
              "        async function convertToInteractive(key) {\n",
              "          const element = document.querySelector('#df-13b78b78-af7d-4e93-934f-8f098cde159d');\n",
              "          const dataTable =\n",
              "            await google.colab.kernel.invokeFunction('convertToInteractive',\n",
              "                                                     [key], {});\n",
              "          if (!dataTable) return;\n",
              "\n",
              "          const docLinkHtml = 'Like what you see? Visit the ' +\n",
              "            '<a target=\"_blank\" href=https://colab.research.google.com/notebooks/data_table.ipynb>data table notebook</a>'\n",
              "            + ' to learn more about interactive tables.';\n",
              "          element.innerHTML = '';\n",
              "          dataTable['output_type'] = 'display_data';\n",
              "          await google.colab.output.renderOutput(dataTable, element);\n",
              "          const docLink = document.createElement('div');\n",
              "          docLink.innerHTML = docLinkHtml;\n",
              "          element.appendChild(docLink);\n",
              "        }\n",
              "      </script>\n",
              "    </div>\n",
              "  </div>\n",
              "  "
            ]
          },
          "metadata": {},
          "execution_count": 22
        }
      ]
    },
    {
      "cell_type": "markdown",
      "metadata": {
        "id": "RSAjInq1vKry"
      },
      "source": [
        "# Roteiro Sugerido\n",
        "\n",
        "As etapas a seguir são a sugestão de passos mínima para a solução do problema de forma estruturada. Em alguns passos serão dadas algumas sugestões de código para o melhor aproveitamento do esforço de exploração e construção de solução.\n",
        "\n",
        "A idéia não é engessar a abordagem, mas apenas criar uma trilha minimamente estruturada para que seja fácil rastrear os passos da solução. O passo inicial será sempre a **análise exploratória** para entender os dados brutos, seguido por um ajuste dos elementos do dataset baseada nas descobertas em uma etapa de **limpeza e pré-processamento** dos dados."
      ]
    },
    {
      "cell_type": "markdown",
      "metadata": {
        "id": "2NGDiJFIre01"
      },
      "source": [
        "## Análise Exploratória Inicial\n",
        "\n",
        "O primeiro passo **sempre** deve ser uma boa EDA (ou análise exploratória). Deve-se entender em cada tabela fornecida a distribuição dos dados de cada coluna, o seu tipo e as correlações (no caso de _features_ numéricas) e co-ocorrências (para _features_ categóricas). Sempre é muito importante tentar entender a relação de todas as _features_ disponíveis com a **variável dependente** ou _target_ (no caso, `is_churn`, para entender se há variáveis que já explicam bem o comportamento da saída **antes mesmo de modelar** uma solução.\n",
        "\n",
        "Sugestão para começar: pegar a tabela de **dados de cliente de treino** `client_tr` e fazer uma exploração das colunas de lá. Depois, buscar fazer uma análise exploratória nas **compras realizadas por esses clientes**, buscando perceber se há alguma relação interessante de comportamento do cliente. Por exemplo, pode-se verificar se o cliente sempre compra produtos para **entregar no mesmo estado em que ele mora**.\n",
        "\n",
        "Muito importante usar as **técnicas de visualização** como histogramas e tabelas de correlações para ter as idéias certas. Nesses casos, gerar gráficos com as bibliotecas [matplotlib](https://matplotlib.org/) e a [seaborn](https://seaborn.pydata.org/) sempre é muito rico. Quando trabalhar com gráficos, sempre seguir a **regra de ouro**: se um gráfico **não mostra explicitamente o comportamento** que quer observar, a análise por esse gráfico pode não ser interessante, siga adiante para outra visualização.\n",
        "\n",
        "Mais uma sugestão de feramentas: além da biblioteca `pandas`, as bibliotecas `numpy` e `scikit-learn` também possuem muitas ferramentas de análise interessantes."
      ]
    },
    {
      "cell_type": "code",
      "metadata": {
        "id": "idjI5iSykUqa"
      },
      "source": [
        "''' sugestão de imports '''\n",
        "%matplotlib inline\n",
        "import matplotlib.pyplot as plt\n",
        "import seaborn as sns\n",
        "import numpy as np"
      ],
      "execution_count": null,
      "outputs": []
    },
    {
      "cell_type": "code",
      "metadata": {
        "colab": {
          "base_uri": "https://localhost:8080/",
          "height": 35
        },
        "id": "AYDWPDu3eTj0",
        "outputId": "491716e0-43ce-4169-faac-fb9bdcb33004"
      },
      "source": [
        "''' Espaço reservado para a Solução '''"
      ],
      "execution_count": null,
      "outputs": [
        {
          "output_type": "execute_result",
          "data": {
            "application/vnd.google.colaboratory.intrinsic+json": {
              "type": "string"
            },
            "text/plain": [
              "' Espaço reservado para a Solução '"
            ]
          },
          "metadata": {
            "tags": []
          },
          "execution_count": 20
        }
      ]
    },
    {
      "cell_type": "markdown",
      "metadata": {
        "id": "wX3a3ET5re25"
      },
      "source": [
        "## Limpeza & Pré-Processamento\n",
        "\n",
        "Depois de explorar os dados brutos, é importante entender se já existem dados _outliers_ ou errados que corrompem ou invalidam certos registros (linhas da tabela) e que deveriam 1) serem tratados de alguma forma ou 2) eliminados do dataset. Se essa necessidade não surgiu com a EDA, das duas uma: ou não há realmente nada a fazer, ou é necessário explorar mais os dados pra entendê-los."
      ]
    },
    {
      "cell_type": "code",
      "metadata": {
        "colab": {
          "base_uri": "https://localhost:8080/",
          "height": 35
        },
        "id": "cY5a7HMZeUSN",
        "outputId": "a989e701-4c8f-463b-df1a-a4e520a1f67c"
      },
      "source": [
        "''' Espaço reservado para a Solução '''"
      ],
      "execution_count": null,
      "outputs": [
        {
          "output_type": "execute_result",
          "data": {
            "application/vnd.google.colaboratory.intrinsic+json": {
              "type": "string"
            },
            "text/plain": [
              "' Espaço reservado para a Solução '"
            ]
          },
          "metadata": {
            "tags": []
          },
          "execution_count": 21
        }
      ]
    },
    {
      "cell_type": "markdown",
      "metadata": {
        "id": "2jzHNoevre8K"
      },
      "source": [
        "## *Feature Engineering*\n",
        "\n",
        "Essa é a etapa que pode dar mais trabalho, devido ao formato de eventos da **tabela de vendas**. Para facilitar um pouco, será dada a seguir uma sugestão de _feature engineering_. Caso haja uma vontade de incluir mais _features_, basta editar o código a seguir.\n"
      ]
    },
    {
      "cell_type": "markdown",
      "metadata": {
        "id": "HKNJkTGU5j7_"
      },
      "source": [
        "### Funções Auxiliares\n",
        "\n",
        "Funções para ajudar nas diferentes ĩdéias de _feature engineering_."
      ]
    },
    {
      "cell_type": "code",
      "metadata": {
        "id": "Vm3DLJI_-Qc1"
      },
      "source": [
        "from sklearn.base import BaseEstimator, TransformerMixin\n",
        "from sklearn.pipeline import Pipeline\n",
        "from sklearn.impute import SimpleImputer"
      ],
      "execution_count": null,
      "outputs": []
    },
    {
      "cell_type": "code",
      "metadata": {
        "id": "9ph3kb0H5kEP"
      },
      "source": [
        "class OrderAggregatorFeaturesTransform(BaseEstimator, TransformerMixin):\n",
        "    \"\"\" Classe base para FeaturesTransformers que usam os dados de Histórico de Vendas para extrair os dados.\n",
        "    \"\"\"\n",
        "    \n",
        "    def __init__(self, orders_table, columns=None, product_table=None, imputer=None):\n",
        "        \n",
        "        self.work_table = None\n",
        "        if product_table is not None:\n",
        "            self.refr_table = pd.merge(\n",
        "                orders_table,\n",
        "                product_table.reset_index(),\n",
        "                on='product_id'\n",
        "            )\n",
        "        else:\n",
        "            self.refr_table = orders_table.copy()\n",
        "        if columns is not None:\n",
        "            self.refr_table = self.refr_table[['client_id', *columns]]\n",
        "        self._reset_database()\n",
        "        self.imputer = imputer\n",
        "        self.columns = columns\n",
        "\n",
        "    def _reset_database(self):\n",
        "        self.work_table = self.refr_table.copy()\n",
        "        return self\n",
        "\n",
        "    def _process_client(self, df):\n",
        "        return df.set_index('client_id')\n",
        "\n",
        "    def _select_orders(self, df):\n",
        "        idx = self.work_table['client_id'].isin(df.index)\n",
        "        return self.work_table[idx]\n",
        "\n",
        "    def fit(self, X, y=None, **fit_params):\n",
        "        if self.imputer is not None:\n",
        "            self._reset_database()\n",
        "            self.imputer.fit(self._select_orders(X)[self.columns])\n",
        "            self.work_table.loc[:, self.columns] = self.imputer.transform(self.work_table[self.columns])\n",
        "        return self\n",
        "    \n",
        "    def transform(self, X):\n",
        "        return self._select_orders(X).groupby('client_id').apply(self._process_client)"
      ],
      "execution_count": null,
      "outputs": []
    },
    {
      "cell_type": "code",
      "metadata": {
        "id": "vy39ML84DELL"
      },
      "source": [
        "class UniqueCounterTransform(OrderAggregatorFeaturesTransform):\n",
        "\n",
        "    def _process_client(self, df):\n",
        "        tmp = super()._process_client(df)\n",
        "        return tmp.apply(lambda x: len(x.unique())).rename(index=lambda x: f'count_{x}')"
      ],
      "execution_count": null,
      "outputs": []
    },
    {
      "cell_type": "code",
      "metadata": {
        "id": "HFHMcXfJH7NJ"
      },
      "source": [
        "class SumValuesTransform(OrderAggregatorFeaturesTransform):\n",
        "\n",
        "    def _process_client(self, df):\n",
        "        tmp = super()._process_client(df)\n",
        "        return tmp.sum().rename(index=lambda x: f'sum_{x}')"
      ],
      "execution_count": null,
      "outputs": []
    },
    {
      "cell_type": "code",
      "metadata": {
        "id": "hyN9jFWOfLWO"
      },
      "source": [
        "class DistributionTransform(OrderAggregatorFeaturesTransform):\n",
        "\n",
        "    def _process_client(self, df):\n",
        "        tmp = (super()\n",
        "               ._process_client(df)\n",
        "               .describe()\n",
        "               .drop(index='count')\n",
        "               .rename(index=lambda c: c.replace('%', 'p')) \n",
        "               .rename(index={'mean': 'avg'})\n",
        "               .unstack())\n",
        "        tmp.index = tmp.index.map('_'.join)\n",
        "        return tmp"
      ],
      "execution_count": null,
      "outputs": []
    },
    {
      "cell_type": "code",
      "metadata": {
        "id": "vFPa6ukNtAGc"
      },
      "source": [
        "class CountStateMatchesTransform(OrderAggregatorFeaturesTransform):\n",
        "    \n",
        "    def _process_client(self, df):\n",
        "        tmp = df.set_index('client_id')[['state', 'delivery_state']]\n",
        "        return pd.Series({\n",
        "            'count_orders_states_eq': (tmp.state == tmp.delivery_state).sum(),\n",
        "            'count_orders_states_ne': (tmp.state != tmp.delivery_state).sum()\n",
        "        })\n",
        "\n",
        "    def transform(self, X):\n",
        "        return (\n",
        "            pd.merge(\n",
        "                self._select_orders(X),\n",
        "                X[['state']].reset_index(),\n",
        "                on='client_id'\n",
        "            ).groupby('client_id').apply(self._process_client)\n",
        "        )"
      ],
      "execution_count": null,
      "outputs": []
    },
    {
      "cell_type": "markdown",
      "metadata": {
        "id": "fPEaYXRqw-_n"
      },
      "source": [
        "### Sugestão de Feature Engineering\t\t\n",
        "\n",
        "Algumas features interessantes para serem extraidas dos dados, por cliente, estão mostradas a seguir.\n",
        "\n",
        "- `gender_g1`: __bool_ calculada a partir do `gender`\n",
        "- `client_age`: calculada a partir do `birthdate`\n",
        "\n",
        "- `sum_units`: total de itens comprados em 2019\n",
        "- `sum_volume`: total gasto em compras em 2019\n",
        "\n",
        "- `count_orders_states_ne`: quantidade de compras entregando em estados diferentes ao do cliente\n",
        "- `count_orders_states_eq`: quantidade de compras entregando em estados iguais ao do cliente\n",
        "\n",
        "- `count_product_id`: quantidade de produtos diferentes presentes nas compras\n",
        "- `count_device`: quantidade de produtos diferentes presentes nas compras\n",
        "- `count_source`: quantidade de produtos diferentes presentes nas compras\n",
        "- `count_payment_method`: quantidade de meios de pagamento em compras\n",
        "\n",
        "- `count_category_lv0`: quantidade de categorias diferentes (nível 0) em compras\n",
        "- `count_category_lv1`: quantidade de categorias diferentes (nível 1) em compras\n",
        "- `count_category_lv2`: quantidade de categorias diferentes (nível 2) em compras\n",
        "- `count_category_lv3`: quantidade de categorias diferentes (nível 3) em compras\n",
        "- `count_category_lv4`: quantidade de categorias diferentes (nível 4) em compras\n",
        "\n",
        "- `price_avg`: média dos preços pagos em cada item comprado\n",
        "- `price_std`: desvio padrão dos preços pagos em cada item comprado\n",
        "- `price_min`: mínimo dos preços pagos em cada item comprado\n",
        "- `price_25p`: quartil 25% dos preços pagos em cada item comprado\n",
        "- `price_50p`: quartil 50% dos preços pagos em cada item comprado\n",
        "- `price_75p`: quartil 75% dos preços pagos em cada item comprado\n",
        "- `price_max`: máximo dos preços pagos em cada item comprado\n",
        "\n",
        "- `delivery_days_avg`: média da quantidade de dias para entregar (prazo)\n",
        "- `delivery_days_std`: desvio padrão da quantidade de dias para entregar (prazo)\n",
        "- `delivery_days_min`: mínimo da quantidade de dias para entregar (prazo)\n",
        "- `delivery_days_25p`: quartil 25% da quantidade de dias para entregar (prazo)\n",
        "- `delivery_days_50p`: quartil 50% da quantidade de dias para entregar (prazo)\n",
        "- `delivery_days_75p`: quartil 75% da quantidade de dias para entregar (prazo)\n",
        "- `delivery_days_max`: máximo da quantidade de dias para entregar (prazo)\n",
        "\n",
        "- `installments_avg`: média da quantidade de parcelas de pagamento\n",
        "- `installments_std`: desvio padrão da quantidade de parcelas de pagamento\n",
        "- `installments_min`: mínimo da quantidade de parcelas de pagamento\n",
        "- `installments_25p`: quartil 25% da quantidade de parcelas de pagamento\n",
        "- `installments_50p`: quartil 50% da quantidade de parcelas de pagamento\n",
        "- `installments_75p`: quartil 75% da quantidade de parcelas de pagamento\n",
        "- `installments_max`: máximo da quantidade de parcelas de pagamento"
      ]
    },
    {
      "cell_type": "code",
      "metadata": {
        "id": "dHOeK5VkpzB7"
      },
      "source": [
        "class FeatureEngineeringTransform(BaseEstimator, TransformerMixin):\n",
        "\n",
        "    def __init__(self, orders_table, product_table):\n",
        "        orders_table['volume'] = orders_table.units * orders_table.price\n",
        "        self._transf_sum = SumValuesTransform(orders_table=orders_table, columns=['units', 'volume'])\n",
        "        self._transf_stt = CountStateMatchesTransform(orders_table=orders_table[['client_id', 'delivery_state']])\n",
        "        self._transf_cnt = UniqueCounterTransform(\n",
        "            orders_table=orders_table, \n",
        "            product_table=product, \n",
        "            columns=['product_id', 'device', 'source', 'payment_method', \n",
        "                     'category_lv0', 'category_lv1', 'category_lv2', 'category_lv3', 'category_lv4']\n",
        "        )\n",
        "        self._transf_dst_med = DistributionTransform(\n",
        "            orders_table=orders_table, \n",
        "            product_table=product, \n",
        "            columns=['price', 'delivery_days'],\n",
        "            imputer=SimpleImputer(strategy='median')\n",
        "        )\n",
        "        self._transf_dst_one = DistributionTransform(\n",
        "            orders_table=orders_table, \n",
        "            product_table=product, \n",
        "            columns=['installments'],\n",
        "            imputer=SimpleImputer(strategy='constant', fill_value=1)\n",
        "        )\n",
        "        \n",
        "    def fit(self, X, y=None, **fit_params): \n",
        "        self._transf_dst_med.fit(X)\n",
        "        self._transf_dst_one.fit(X)\n",
        "        return self\n",
        "    \n",
        "    def transform(self, X):\n",
        "        output = (X[['gender']] == 'cg1').rename(columns={'gender': 'gender_cg1'})\n",
        "        output['client_age'] = 2021 - X.birthdate.dt.year\n",
        "        output = output.join(self._transf_sum.transform(X))\n",
        "        output = output.join(self._transf_stt.transform(X))\n",
        "        output = output.join(self._transf_cnt.transform(X))\n",
        "        output = output.join(self._transf_dst_med.transform(X))\n",
        "        output = output.join(self._transf_dst_one.transform(X))\n",
        "        return output"
      ],
      "execution_count": null,
      "outputs": []
    },
    {
      "cell_type": "code",
      "metadata": {
        "colab": {
          "base_uri": "https://localhost:8080/"
        },
        "id": "HfFhhD2Iw_Hn",
        "outputId": "9791fd14-684a-41d4-934f-6146cb0d3225"
      },
      "source": [
        "%%time\n",
        "feateng = FeatureEngineeringTransform(orders, product).fit(clients_tr)"
      ],
      "execution_count": null,
      "outputs": [
        {
          "output_type": "stream",
          "text": [
            "CPU times: user 939 ms, sys: 22.1 ms, total: 961 ms\n",
            "Wall time: 963 ms\n"
          ],
          "name": "stdout"
        }
      ]
    },
    {
      "cell_type": "code",
      "metadata": {
        "colab": {
          "base_uri": "https://localhost:8080/"
        },
        "id": "2sLFLRl-NJw_",
        "outputId": "cf217dda-7638-4dcd-fb09-0620d4412f2c"
      },
      "source": [
        "feateng"
      ],
      "execution_count": null,
      "outputs": [
        {
          "output_type": "stream",
          "text": [
            "/usr/local/lib/python3.7/dist-packages/sklearn/base.py:197: FutureWarning: From version 0.24, get_params will raise an AttributeError if a parameter cannot be retrieved as an instance attribute. Previously it would return None.\n",
            "  FutureWarning)\n"
          ],
          "name": "stderr"
        },
        {
          "output_type": "execute_result",
          "data": {
            "text/plain": [
              "FeatureEngineeringTransform(orders_table=None, product_table=None)"
            ]
          },
          "metadata": {
            "tags": []
          },
          "execution_count": 60
        }
      ]
    },
    {
      "cell_type": "code",
      "metadata": {
        "colab": {
          "base_uri": "https://localhost:8080/"
        },
        "id": "EOrB4MunEbbS",
        "outputId": "ee42b5de-3f69-46a4-afb9-c3fc50653f39"
      },
      "source": [
        "%%time\n",
        "train_dataset = feateng.transform(clients_tr)"
      ],
      "execution_count": null,
      "outputs": [
        {
          "output_type": "stream",
          "text": [
            "CPU times: user 8min 40s, sys: 6.47 s, total: 8min 46s\n",
            "Wall time: 8min 37s\n"
          ],
          "name": "stdout"
        }
      ]
    },
    {
      "cell_type": "code",
      "metadata": {
        "id": "vl10km-GNDpe"
      },
      "source": [
        "train_dataset.to_csv('data/client.train.features.v1.csv')"
      ],
      "execution_count": null,
      "outputs": []
    },
    {
      "cell_type": "code",
      "metadata": {
        "colab": {
          "base_uri": "https://localhost:8080/"
        },
        "id": "HVWuLS5mEbhT",
        "outputId": "4238efcc-111e-4b0c-be4c-8b4797a73470"
      },
      "source": [
        "%%time\n",
        "test_dataset = feateng.transform(clients_te)"
      ],
      "execution_count": null,
      "outputs": [
        {
          "output_type": "stream",
          "text": [
            "CPU times: user 2min 48s, sys: 1.88 s, total: 2min 50s\n",
            "Wall time: 2min 47s\n"
          ],
          "name": "stdout"
        }
      ]
    },
    {
      "cell_type": "code",
      "metadata": {
        "id": "uRinmehsM-HX"
      },
      "source": [
        "test_dataset.to_csv('data/client.test.features.v1.sv')"
      ],
      "execution_count": null,
      "outputs": []
    },
    {
      "cell_type": "markdown",
      "metadata": {
        "id": "sxi2Og8si2H4"
      },
      "source": [
        "## Análise Exploratória nas Novas _Features_\n",
        "\n",
        "\n",
        "Regra de Ouro aqui: **cada vez que forem criadas _features_** nas etapas de _feature engineering_, deve ser feita uma **análise exploratória** para entender as distribuições dos dados. Novos dados trazem novos ângulos para  o problema e esses novos ângulos quase sempre trazem novas informações sobre o problema.\n",
        "\n",
        "Importante: se fizer sentido, pode-se adicionar mais uma etapa de **limpeza e pré-processamento** dos dados."
      ]
    },
    {
      "cell_type": "code",
      "metadata": {
        "id": "kQk8sHPbi2Sx"
      },
      "source": [
        "''' Espaço reservado para a Solução '''"
      ],
      "execution_count": null,
      "outputs": []
    },
    {
      "cell_type": "markdown",
      "metadata": {
        "id": "ABJmHZOGre5n"
      },
      "source": [
        "## Treinar um Modelo Baseline\n",
        "\n",
        "Antes de começar a treinar modelos muito complexos, sempre é interessante verificar **se um modelo mais simples já resolve**. Além da vantagem de adquirir mais conhecimento sobre o problema, com modelos simples como [árvores de decisão](https://scikit-learn.org/stable/modules/generated/sklearn.tree.DecisionTreeClassifier.html) ou uma boa [regressão logística](https://scikit-learn.org/stable/modules/generated/sklearn.linear_model.LogisticRegression.html) trazem bons insights sobre o que o modelo aprendeu sobre o problema durante  o treinamento. Com sorte, também é possível ter maior compreensao sobre o **impacto direto de cada _feature_** na decisão de saída do modelo, trazendo uma dimensão de explicabilidade para a solução.\n",
        "\n",
        "\n",
        "O modelo baseline deve ser avaliado em termos de performance de classificação usando métricas como **F-Score**, **precision**, **recall** e _frameworks_ de avaliação como a **matriz de confusão** e a **curva ROC**. Essas medidas **devem ser colocadas em uma tabela** identificada na primeira linha como **_benchmark_** para que, cada vez que se treinar outro modelo, esse modelo possa ser comparado nessas mesmas métricas com os outros. Um exemplo de tabela de comparação de resultados de modelos está [nessa aula de Balanceamento de _Datasets_](https://docs.google.com/presentation/d/1Y4ORsMqnlP2mYbYG30JwHl_VkIGB0XBdO_D8LmK1OAw/edit?usp=sharing) no **slide 124**.\n",
        "\n",
        "\n",
        "Importantíssimo: deve-se **sempre verificar se houve _overfit_ ou _underfit_** no treinamento. Uma forma fácil de fazer isso é **comparando métricas de treino e de teste** do mesmo modelo treinado. Assim, fica fácil entender se é necessário resolver problemas de **viés** ou de **variância** nas próximas iterações da construção da solução. \n",
        "\n",
        "\n",
        "Um último lembrete: **sempre comparar modelos sobre a mesma massa de teste**. Por esse motivo, o desafio já fornece os dados de teste em um arquivo separado, mas é importantíssimo comparar modelos diferentes sobre o **teste**, que na teoria é um _proxy_ do funcionamento do modleo no mundo real."
      ]
    },
    {
      "cell_type": "code",
      "metadata": {
        "id": "tv_eInXheVke"
      },
      "source": [
        "''' Espaço reservado para a Solução '''"
      ],
      "execution_count": null,
      "outputs": []
    },
    {
      "cell_type": "markdown",
      "metadata": {
        "id": "glKPMnfXr8Rf"
      },
      "source": [
        "## Treinar Modelos mais Complexos\n",
        "\n",
        "Após treinar um modelo **_baseline_** e comprender se o problema tem questões de **viés** ou de **variância** (ou ambos) a serem resolvidos, a idéia é treinar modelos mais complexos (e mais fortes) para maximizar a performance da solução. Como os modelos clássicos de _ensemble_ conseguem resolver esses tipos de problemas (e são modelos complexos por si), fica como sugestão a referência da [aula de _Ensembles_](https://docs.google.com/presentation/d/12zwm_gdUrxlY2YpFYTOOPqacyZg_FKqwNaOXGSn6idM/edit?usp=sharing), que sugere os tipos certos de modelos para cada problema.\n",
        "\n",
        "Algumas sugestões de modelos a serem treinados:\n",
        "\n",
        "- [Random Forest](https://scikit-learn.org/stable/modules/generated/sklearn.ensemble.RandomForestClassifier.html): _ensemble_ de árvores de decisão do tipo **_bagging_**, diminuem **variância**\n",
        "- [Gradient Boosted Trees](https://scikit-learn.org/stable/modules/generated/sklearn.ensemble.GradientBoostingClassifier.html): _ensemble_ de árvores de decisão do tipo **_boosting_**, diminuem **variância** e **viés**\n",
        "- [Support Vector Machines](https://scikit-learn.org/stable/modules/generated/sklearn.svm.LinearSVC.html): modelo com foco na otimização da separação entre as classes, muito eficientes em classificação binária\n",
        "\n",
        "Lembrando de sempre armazenar na **tabela de resultados** as métricas de cada modelo treinado.\n"
      ]
    },
    {
      "cell_type": "code",
      "metadata": {
        "id": "cf9XtIpdeWSp"
      },
      "source": [
        "''' Espaço reservado para a Solução '''"
      ],
      "execution_count": null,
      "outputs": []
    },
    {
      "cell_type": "markdown",
      "metadata": {
        "id": "Z16yQeanr8WS"
      },
      "source": [
        "## Agrupando Modelos em um *Ensemble*\n",
        "\n",
        "Com vários modelos treinados, é interessante treinar um [_ensemble_ do tipo _stacking_](https://scikit-learn.org/stable/modules/generated/sklearn.ensemble.StackingClassifier.html) com os modelos mais promissores dentre os treinados. \n",
        "\n",
        "\n",
        "Antes de treinar o _stacking_, deve-se buscar entender **quais modelos são interessantes** para compor esse _ensemble_, já que há bastante custo computacional envolvido em combinar modelos. Uma técnica interessante é **verificar quais modelos são mais complementares** e qual combinação de modelos teria o **potencial ótimo**, i.e. o maior ganho teórico. A primeira parte da [aula de _Ensembles_](https://docs.google.com/presentation/d/12zwm_gdUrxlY2YpFYTOOPqacyZg_FKqwNaOXGSn6idM/edit?usp=sharing) mostra esse racional no **slide 22**.\n",
        "\n",
        "\n"
      ]
    },
    {
      "cell_type": "code",
      "metadata": {
        "id": "5UO8pmvteW-W"
      },
      "source": [
        "''' Espaço reservado para a Solução '''"
      ],
      "execution_count": null,
      "outputs": []
    },
    {
      "cell_type": "markdown",
      "metadata": {
        "id": "xawbSDwMsk2N"
      },
      "source": [
        "## Envio das Previsões do Desafio\n",
        "\n",
        "Após o treinamento, é interessante fazer uma análise da **tabela de resultados** atualizada e compreender a evolução das soluções. Depois, **escolher a melhor solução** e enviar os resultados do modelo sobre os dados em `clients.challenge` para a competição de modelos por [esse formulário]().\n",
        "\n",
        "O **formato do arquivo** que deve ser submetido é uma tabela com duas colunas:\n",
        "- `client_id`: todos os IDs de cliente do arquivo *clients.challenge.csv*\n",
        "- `is_churn`: decisão sobre cada cliente; apenas será aceito o formato binário, com saída igual a `True` ou `False`.\n",
        "\n",
        "**IMPORTANTE**: por limitações do formulário, o arquivo deve ter extensão `.txt` se for do tipo CSV ou `xls` (ou `xlsx`) se for uma planilha do excel."
      ]
    },
    {
      "cell_type": "code",
      "metadata": {
        "id": "rqphu64zeXlH"
      },
      "source": [
        "''' Espaço reservado para a Solução '''"
      ],
      "execution_count": null,
      "outputs": []
    },
    {
      "cell_type": "markdown",
      "metadata": {
        "id": "2Tmgfh2qtbYI"
      },
      "source": [
        "## Insights & Levantamento de Hipóteses\n",
        "\n",
        "Durante o desenvolvimento das soluções e as explorações, é muito provável que alguns _insights_ e hipóteses tenham surgido. Nessa última etapa é o momento de escrever eses pontos de forma estruturada e preparar o **banco de hipóteses** para mais uma rodada de solução. Afinal, se há espaço para melhoras, esse banco pode ser uma fonte de boas idéias de onde começar."
      ]
    }
  ]
}